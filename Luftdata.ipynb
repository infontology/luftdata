{
 "cells": [
  {
   "cell_type": "markdown",
   "metadata": {},
   "source": [
    "## Luftdata\n",
    "\n",
    "Baserat på APIet som beskrivs här:\n",
    "https://luftdata.se/data/"
   ]
  },
  {
   "cell_type": "code",
   "execution_count": 15,
   "metadata": {},
   "outputs": [],
   "source": [
    "import requests"
   ]
  },
  {
   "cell_type": "markdown",
   "metadata": {},
   "source": [
    "Leta upp dina koordinater på Google maps\n",
    "\n",
    "Börja med att gå hit för instruktioner om att hitta plats.\n",
    "https://support.google.com/maps/answer/18539?co=GENIE.Platform%3DDesktop&hl=sv\n",
    "\n",
    "Mata in dina värden för latitude och longitude i nästa cell"
   ]
  },
  {
   "cell_type": "code",
   "execution_count": 16,
   "metadata": {},
   "outputs": [],
   "source": [
    "latitude = '55.589579'\n",
    "longitude = '12.943910'\n",
    "distance = '2' # Avstånd i kilometer"
   ]
  },
  {
   "cell_type": "code",
   "execution_count": 17,
   "metadata": {},
   "outputs": [
    {
     "data": {
      "text/plain": [
       "'http://api.luftdaten.info/v1/filter/area=55.589579,12.943910,2'"
      ]
     },
     "execution_count": 17,
     "metadata": {},
     "output_type": "execute_result"
    }
   ],
   "source": [
    "url = 'http://api.luftdaten.info/v1/filter/area={},{},{}'.format(latitude, longitude, distance)\n",
    "url"
   ]
  },
  {
   "cell_type": "code",
   "execution_count": 18,
   "metadata": {},
   "outputs": [
    {
     "name": "stdout",
     "output_type": "stream",
     "text": [
      "[{'sensor': {'pin': '1', 'sensor_type': {'manufacturer': 'Nova Fitness', 'name': 'SDS011', 'id': 14}, 'id': 17534}, 'location': {'altitude': '8.1', 'indoor': 0, 'latitude': '55.582', 'longitude': '12.948', 'id': 8885, 'country': 'SE', 'exact_location': 0}, 'sensordatavalues': [{'value': '2.77', 'value_type': 'P1', 'id': 7693611805}, {'value': '1.20', 'value_type': 'P2', 'id': 7693611806}], 'id': 3628095847, 'timestamp': '2019-05-14 12:46:14', 'sampling_rate': None}, {'sensor': {'pin': '7', 'sensor_type': {'manufacturer': 'various', 'name': 'DHT22', 'id': 9}, 'id': 17535}, 'location': {'altitude': '8.1', 'indoor': 0, 'latitude': '55.582', 'longitude': '12.948', 'id': 8885, 'country': 'SE', 'exact_location': 0}, 'sensordatavalues': [{'value': '75.40', 'value_type': 'humidity', 'id': 7693612086}, {'value': '15.90', 'value_type': 'temperature', 'id': 7693612084}], 'id': 3628095979, 'timestamp': '2019-05-14 12:46:15', 'sampling_rate': None}, {'sensor': {'pin': '1', 'sensor_type': {'manufacturer': 'Nova Fitness', 'name': 'SDS011', 'id': 14}, 'id': 17534}, 'location': {'altitude': '8.1', 'indoor': 0, 'latitude': '55.582', 'longitude': '12.948', 'id': 8885, 'country': 'SE', 'exact_location': 0}, 'sensordatavalues': [{'value': '1.83', 'value_type': 'P1', 'id': 7693645896}, {'value': '1.33', 'value_type': 'P2', 'id': 7693645898}], 'id': 3628112012, 'timestamp': '2019-05-14 12:48:43', 'sampling_rate': None}, {'sensor': {'pin': '7', 'sensor_type': {'manufacturer': 'various', 'name': 'DHT22', 'id': 9}, 'id': 17535}, 'location': {'altitude': '8.1', 'indoor': 0, 'latitude': '55.582', 'longitude': '12.948', 'id': 8885, 'country': 'SE', 'exact_location': 0}, 'sensordatavalues': [{'value': '75.30', 'value_type': 'humidity', 'id': 7693646107}, {'value': '15.70', 'value_type': 'temperature', 'id': 7693646106}], 'id': 3628112111, 'timestamp': '2019-05-14 12:48:43', 'sampling_rate': None}]\n"
     ]
    }
   ],
   "source": [
    "r = requests.get(url)\n",
    "\n",
    "print (r.json())"
   ]
  },
  {
   "cell_type": "code",
   "execution_count": 19,
   "metadata": {},
   "outputs": [],
   "source": [
    "lista = r.json()"
   ]
  },
  {
   "cell_type": "code",
   "execution_count": 20,
   "metadata": {},
   "outputs": [
    {
     "data": {
      "text/plain": [
       "[{'value': '2.77', 'value_type': 'P1', 'id': 7693611805},\n",
       " {'value': '1.20', 'value_type': 'P2', 'id': 7693611806}]"
      ]
     },
     "execution_count": 20,
     "metadata": {},
     "output_type": "execute_result"
    }
   ],
   "source": [
    "lista[0]['sensordatavalues']"
   ]
  },
  {
   "cell_type": "code",
   "execution_count": null,
   "metadata": {},
   "outputs": [],
   "source": []
  }
 ],
 "metadata": {
  "kernelspec": {
   "display_name": "Python 3",
   "language": "python",
   "name": "python3"
  },
  "language_info": {
   "codemirror_mode": {
    "name": "ipython",
    "version": 3
   },
   "file_extension": ".py",
   "mimetype": "text/x-python",
   "name": "python",
   "nbconvert_exporter": "python",
   "pygments_lexer": "ipython3",
   "version": "3.7.2"
  }
 },
 "nbformat": 4,
 "nbformat_minor": 2
}
