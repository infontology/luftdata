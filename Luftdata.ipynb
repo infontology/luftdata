{
 "cells": [
  {
   "cell_type": "markdown",
   "metadata": {},
   "source": [
    "## Luftdata\n",
    "\n",
    "https://luftdata.se/data/\n",
    "\n",
    "Börja med att gå hit för instruktioner om att hitta plats.\n",
    "https://support.google.com/maps/answer/18539?co=GENIE.Platform%3DDesktop&hl=sv\n",
    "\n",
    "Leta upp dina koordinater på Google maps"
   ]
  },
  {
   "cell_type": "code",
   "execution_count": 2,
   "metadata": {},
   "outputs": [],
   "source": [
    "import requests"
   ]
  },
  {
   "cell_type": "code",
   "execution_count": 5,
   "metadata": {},
   "outputs": [],
   "source": [
    "latitude = '55.589579'\n",
    "longitude = '12.943910'\n",
    "distance = '2' # Avstånd i kilometer"
   ]
  },
  {
   "cell_type": "code",
   "execution_count": 6,
   "metadata": {},
   "outputs": [
    {
     "data": {
      "text/plain": [
       "'http://api.luftdaten.info/v1/filter/area=55.589579,12.943910,2'"
      ]
     },
     "execution_count": 6,
     "metadata": {},
     "output_type": "execute_result"
    }
   ],
   "source": [
    "url = 'http://api.luftdaten.info/v1/filter/area={},{},{}'.format(latitude, longitude, distance)\n",
    "url"
   ]
  },
  {
   "cell_type": "code",
   "execution_count": 7,
   "metadata": {},
   "outputs": [
    {
     "name": "stdout",
     "output_type": "stream",
     "text": [
      "[{'sensor': {'pin': '1', 'sensor_type': {'manufacturer': 'Nova Fitness', 'name': 'SDS011', 'id': 14}, 'id': 17534}, 'location': {'altitude': '8.1', 'indoor': 0, 'latitude': '55.582', 'longitude': '12.948', 'id': 8885, 'country': 'SE', 'exact_location': 0}, 'sensordatavalues': [{'value': '1.30', 'value_type': 'P1', 'id': 7693236862}, {'value': '1.20', 'value_type': 'P2', 'id': 7693236863}], 'id': 3627918086, 'timestamp': '2019-05-14 12:19:06', 'sampling_rate': None}, {'sensor': {'pin': '7', 'sensor_type': {'manufacturer': 'various', 'name': 'DHT22', 'id': 9}, 'id': 17535}, 'location': {'altitude': '8.1', 'indoor': 0, 'latitude': '55.582', 'longitude': '12.948', 'id': 8885, 'country': 'SE', 'exact_location': 0}, 'sensordatavalues': [{'value': '76.80', 'value_type': 'humidity', 'id': 7693237070}, {'value': '15.90', 'value_type': 'temperature', 'id': 7693237069}], 'id': 3627918185, 'timestamp': '2019-05-14 12:19:07', 'sampling_rate': None}, {'sensor': {'pin': '1', 'sensor_type': {'manufacturer': 'Nova Fitness', 'name': 'SDS011', 'id': 14}, 'id': 17534}, 'location': {'altitude': '8.1', 'indoor': 0, 'latitude': '55.582', 'longitude': '12.948', 'id': 8885, 'country': 'SE', 'exact_location': 0}, 'sensordatavalues': [{'value': '2.17', 'value_type': 'P1', 'id': 7693270888}, {'value': '1.30', 'value_type': 'P2', 'id': 7693270889}], 'id': 3627934217, 'timestamp': '2019-05-14 12:21:34', 'sampling_rate': None}, {'sensor': {'pin': '7', 'sensor_type': {'manufacturer': 'various', 'name': 'DHT22', 'id': 9}, 'id': 17535}, 'location': {'altitude': '8.1', 'indoor': 0, 'latitude': '55.582', 'longitude': '12.948', 'id': 8885, 'country': 'SE', 'exact_location': 0}, 'sensordatavalues': [{'value': '76.40', 'value_type': 'humidity', 'id': 7693271085}, {'value': '15.90', 'value_type': 'temperature', 'id': 7693271082}], 'id': 3627934309, 'timestamp': '2019-05-14 12:21:35', 'sampling_rate': None}]\n"
     ]
    }
   ],
   "source": [
    "r = requests.get(url)\n",
    "\n",
    "print (r.json())"
   ]
  },
  {
   "cell_type": "code",
   "execution_count": 8,
   "metadata": {},
   "outputs": [],
   "source": [
    "lista = r.json()"
   ]
  },
  {
   "cell_type": "code",
   "execution_count": 14,
   "metadata": {},
   "outputs": [
    {
     "data": {
      "text/plain": [
       "[{'value': '1.30', 'value_type': 'P1', 'id': 7693236862},\n",
       " {'value': '1.20', 'value_type': 'P2', 'id': 7693236863}]"
      ]
     },
     "execution_count": 14,
     "metadata": {},
     "output_type": "execute_result"
    }
   ],
   "source": [
    "lista[0]['sensordatavalues']"
   ]
  },
  {
   "cell_type": "code",
   "execution_count": null,
   "metadata": {},
   "outputs": [],
   "source": []
  }
 ],
 "metadata": {
  "kernelspec": {
   "display_name": "Python 3",
   "language": "python",
   "name": "python3"
  },
  "language_info": {
   "codemirror_mode": {
    "name": "ipython",
    "version": 3
   },
   "file_extension": ".py",
   "mimetype": "text/x-python",
   "name": "python",
   "nbconvert_exporter": "python",
   "pygments_lexer": "ipython3",
   "version": "3.7.2"
  }
 },
 "nbformat": 4,
 "nbformat_minor": 2
}
