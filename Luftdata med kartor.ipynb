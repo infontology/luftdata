{
 "cells": [
  {
   "cell_type": "markdown",
   "metadata": {},
   "source": [
    "## Luftdata med kartor\n",
    "\n",
    "Simon Winter, Infontology http://infontology.org\n",
    "\n",
    "\n",
    "\n",
    "I den här lektionen ska vi se hur man kan hitta data för luftföroreningar från det nätverk av sammankopplade sensorer som finns på Luftdata.se"
   ]
  },
  {
   "cell_type": "code",
   "execution_count": 1,
   "metadata": {},
   "outputs": [
    {
     "name": "stderr",
     "output_type": "stream",
     "text": [
      "/Users/management/.local/lib/python3.7/site-packages/requests/__init__.py:91: RequestsDependencyWarning: urllib3 (1.25.7) or chardet (3.0.4) doesn't match a supported version!\n",
      "  RequestsDependencyWarning)\n"
     ]
    }
   ],
   "source": [
    "import requests\n",
    "import pandas as pd\n",
    "import gmaps\n",
    "from credentials import key"
   ]
  },
  {
   "cell_type": "code",
   "execution_count": 2,
   "metadata": {},
   "outputs": [],
   "source": [
    "# https://console.developers.google.com/apis/dashboard?project=natural-furnace-264420\n",
    "gmaps.configure(api_key=key)"
   ]
  },
  {
   "cell_type": "code",
   "execution_count": 3,
   "metadata": {},
   "outputs": [],
   "source": [
    "latitude = '55.611437'\n",
    "longitude = '12.994264'\n",
    "distance = '150' # Avstånd i kilometer"
   ]
  },
  {
   "cell_type": "markdown",
   "metadata": {},
   "source": [
    "Med hjälp av koordinaterna så skapar vi urlen. Lämna tomma platser inom {} i textsträngen, och ge variabelnamnen i format-parentesen"
   ]
  },
  {
   "cell_type": "code",
   "execution_count": 4,
   "metadata": {},
   "outputs": [
    {
     "data": {
      "text/plain": [
       "'http://api.luftdaten.info/v1/filter/area=55.611437,12.994264,150'"
      ]
     },
     "execution_count": 4,
     "metadata": {},
     "output_type": "execute_result"
    }
   ],
   "source": [
    "url = 'http://api.luftdaten.info/v1/filter/area={},{},{}'.format(latitude, longitude, distance)\n",
    "url ## Om man ger ett variabelnamn på sista raden av en cell skrivs värdet ut. Det går också att göra print(url)"
   ]
  },
  {
   "cell_type": "markdown",
   "metadata": {},
   "source": [
    "Requests-biblioteket gör det lätt att hantera frågor till servern. "
   ]
  },
  {
   "cell_type": "code",
   "execution_count": 5,
   "metadata": {},
   "outputs": [],
   "source": [
    "response = requests.get(url)"
   ]
  },
  {
   "cell_type": "code",
   "execution_count": 6,
   "metadata": {},
   "outputs": [
    {
     "data": {
      "text/plain": [
       "143"
      ]
     },
     "execution_count": 6,
     "metadata": {},
     "output_type": "execute_result"
    }
   ],
   "source": [
    "sensors = response.json()\n",
    "number_of_sensors = len(sensors)\n",
    "number_of_sensors"
   ]
  },
  {
   "cell_type": "markdown",
   "metadata": {},
   "source": [
    "Om number_of_sensors är större än 0 så finns det sensorer i listan. Då kan man få fram sensorvärdena på olika sätt. Det första värdet ligger alltid i sensors[0]"
   ]
  },
  {
   "cell_type": "code",
   "execution_count": 7,
   "metadata": {},
   "outputs": [],
   "source": [
    "sens2 = pd.DataFrame(columns=['latitude', 'longitude'])"
   ]
  },
  {
   "cell_type": "code",
   "execution_count": 8,
   "metadata": {},
   "outputs": [
    {
     "data": {
      "text/html": [
       "<div>\n",
       "<style scoped>\n",
       "    .dataframe tbody tr th:only-of-type {\n",
       "        vertical-align: middle;\n",
       "    }\n",
       "\n",
       "    .dataframe tbody tr th {\n",
       "        vertical-align: top;\n",
       "    }\n",
       "\n",
       "    .dataframe thead th {\n",
       "        text-align: right;\n",
       "    }\n",
       "</style>\n",
       "<table border=\"1\" class=\"dataframe\">\n",
       "  <thead>\n",
       "    <tr style=\"text-align: right;\">\n",
       "      <th></th>\n",
       "      <th>latitude</th>\n",
       "      <th>longitude</th>\n",
       "    </tr>\n",
       "  </thead>\n",
       "  <tbody>\n",
       "  </tbody>\n",
       "</table>\n",
       "</div>"
      ],
      "text/plain": [
       "Empty DataFrame\n",
       "Columns: [latitude, longitude]\n",
       "Index: []"
      ]
     },
     "execution_count": 8,
     "metadata": {},
     "output_type": "execute_result"
    }
   ],
   "source": [
    "sens2"
   ]
  },
  {
   "cell_type": "code",
   "execution_count": 9,
   "metadata": {},
   "outputs": [],
   "source": [
    "def create_sensordict (sensor):\n",
    "    sensordict = {}\n",
    "    sensordict['longitude'] = sensor['location']['longitude']\n",
    "    sensordict['latitude'] = sensor['location']['latitude']\n",
    "    for stype in sensor['sensordatavalues']:\n",
    "        sensordict[stype['value_type']] = stype['value']\n",
    "    return sensordict"
   ]
  },
  {
   "cell_type": "code",
   "execution_count": 10,
   "metadata": {},
   "outputs": [],
   "source": [
    "for sensor in sensors:\n",
    "    sens2 = sens2.append (create_sensordict(sensor), ignore_index=True)\n",
    "\n",
    "    "
   ]
  },
  {
   "cell_type": "code",
   "execution_count": 11,
   "metadata": {},
   "outputs": [
    {
     "data": {
      "text/html": [
       "<div>\n",
       "<style scoped>\n",
       "    .dataframe tbody tr th:only-of-type {\n",
       "        vertical-align: middle;\n",
       "    }\n",
       "\n",
       "    .dataframe tbody tr th {\n",
       "        vertical-align: top;\n",
       "    }\n",
       "\n",
       "    .dataframe thead th {\n",
       "        text-align: right;\n",
       "    }\n",
       "</style>\n",
       "<table border=\"1\" class=\"dataframe\">\n",
       "  <thead>\n",
       "    <tr style=\"text-align: right;\">\n",
       "      <th></th>\n",
       "      <th>latitude</th>\n",
       "      <th>longitude</th>\n",
       "      <th>humidity</th>\n",
       "      <th>temperature</th>\n",
       "      <th>P1</th>\n",
       "      <th>P2</th>\n",
       "      <th>pressure</th>\n",
       "      <th>pressure_at_sealevel</th>\n",
       "    </tr>\n",
       "  </thead>\n",
       "  <tbody>\n",
       "    <tr>\n",
       "      <th>0</th>\n",
       "      <td>55.796</td>\n",
       "      <td>13.09</td>\n",
       "      <td>99.90</td>\n",
       "      <td>4.60</td>\n",
       "      <td>NaN</td>\n",
       "      <td>NaN</td>\n",
       "      <td>NaN</td>\n",
       "      <td>NaN</td>\n",
       "    </tr>\n",
       "    <tr>\n",
       "      <th>1</th>\n",
       "      <td>55.796</td>\n",
       "      <td>13.09</td>\n",
       "      <td>NaN</td>\n",
       "      <td>NaN</td>\n",
       "      <td>4.83</td>\n",
       "      <td>1.53</td>\n",
       "      <td>NaN</td>\n",
       "      <td>NaN</td>\n",
       "    </tr>\n",
       "    <tr>\n",
       "      <th>2</th>\n",
       "      <td>55.61</td>\n",
       "      <td>12.1</td>\n",
       "      <td>0.00</td>\n",
       "      <td>7.19</td>\n",
       "      <td>NaN</td>\n",
       "      <td>NaN</td>\n",
       "      <td>100132.84</td>\n",
       "      <td>100716.17</td>\n",
       "    </tr>\n",
       "    <tr>\n",
       "      <th>3</th>\n",
       "      <td>55.61</td>\n",
       "      <td>12.1</td>\n",
       "      <td>NaN</td>\n",
       "      <td>NaN</td>\n",
       "      <td>10.07</td>\n",
       "      <td>7.45</td>\n",
       "      <td>NaN</td>\n",
       "      <td>NaN</td>\n",
       "    </tr>\n",
       "    <tr>\n",
       "      <th>4</th>\n",
       "      <td>55.658</td>\n",
       "      <td>13.358</td>\n",
       "      <td>100.00</td>\n",
       "      <td>6.66</td>\n",
       "      <td>NaN</td>\n",
       "      <td>NaN</td>\n",
       "      <td>99111.06</td>\n",
       "      <td>99903.67</td>\n",
       "    </tr>\n",
       "    <tr>\n",
       "      <th>...</th>\n",
       "      <td>...</td>\n",
       "      <td>...</td>\n",
       "      <td>...</td>\n",
       "      <td>...</td>\n",
       "      <td>...</td>\n",
       "      <td>...</td>\n",
       "      <td>...</td>\n",
       "      <td>...</td>\n",
       "    </tr>\n",
       "    <tr>\n",
       "      <th>138</th>\n",
       "      <td>56.144</td>\n",
       "      <td>13.394</td>\n",
       "      <td>NaN</td>\n",
       "      <td>NaN</td>\n",
       "      <td>5.20</td>\n",
       "      <td>2.03</td>\n",
       "      <td>NaN</td>\n",
       "      <td>NaN</td>\n",
       "    </tr>\n",
       "    <tr>\n",
       "      <th>139</th>\n",
       "      <td>55.606</td>\n",
       "      <td>13.024</td>\n",
       "      <td>81.65</td>\n",
       "      <td>8.94</td>\n",
       "      <td>NaN</td>\n",
       "      <td>NaN</td>\n",
       "      <td>100643.66</td>\n",
       "      <td>100743.63</td>\n",
       "    </tr>\n",
       "    <tr>\n",
       "      <th>140</th>\n",
       "      <td>55.606</td>\n",
       "      <td>13.024</td>\n",
       "      <td>NaN</td>\n",
       "      <td>NaN</td>\n",
       "      <td>10.27</td>\n",
       "      <td>6.07</td>\n",
       "      <td>NaN</td>\n",
       "      <td>NaN</td>\n",
       "    </tr>\n",
       "    <tr>\n",
       "      <th>141</th>\n",
       "      <td>55.61</td>\n",
       "      <td>12.1</td>\n",
       "      <td>0.00</td>\n",
       "      <td>7.08</td>\n",
       "      <td>NaN</td>\n",
       "      <td>NaN</td>\n",
       "      <td>100144.88</td>\n",
       "      <td>100728.51</td>\n",
       "    </tr>\n",
       "    <tr>\n",
       "      <th>142</th>\n",
       "      <td>55.61</td>\n",
       "      <td>12.1</td>\n",
       "      <td>NaN</td>\n",
       "      <td>NaN</td>\n",
       "      <td>7.82</td>\n",
       "      <td>6.05</td>\n",
       "      <td>NaN</td>\n",
       "      <td>NaN</td>\n",
       "    </tr>\n",
       "  </tbody>\n",
       "</table>\n",
       "<p>143 rows × 8 columns</p>\n",
       "</div>"
      ],
      "text/plain": [
       "    latitude longitude humidity temperature     P1    P2   pressure  \\\n",
       "0     55.796     13.09    99.90        4.60    NaN   NaN        NaN   \n",
       "1     55.796     13.09      NaN         NaN   4.83  1.53        NaN   \n",
       "2      55.61      12.1     0.00        7.19    NaN   NaN  100132.84   \n",
       "3      55.61      12.1      NaN         NaN  10.07  7.45        NaN   \n",
       "4     55.658    13.358   100.00        6.66    NaN   NaN   99111.06   \n",
       "..       ...       ...      ...         ...    ...   ...        ...   \n",
       "138   56.144    13.394      NaN         NaN   5.20  2.03        NaN   \n",
       "139   55.606    13.024    81.65        8.94    NaN   NaN  100643.66   \n",
       "140   55.606    13.024      NaN         NaN  10.27  6.07        NaN   \n",
       "141    55.61      12.1     0.00        7.08    NaN   NaN  100144.88   \n",
       "142    55.61      12.1      NaN         NaN   7.82  6.05        NaN   \n",
       "\n",
       "     pressure_at_sealevel  \n",
       "0                     NaN  \n",
       "1                     NaN  \n",
       "2               100716.17  \n",
       "3                     NaN  \n",
       "4                99903.67  \n",
       "..                    ...  \n",
       "138                   NaN  \n",
       "139             100743.63  \n",
       "140                   NaN  \n",
       "141             100728.51  \n",
       "142                   NaN  \n",
       "\n",
       "[143 rows x 8 columns]"
      ]
     },
     "execution_count": 11,
     "metadata": {},
     "output_type": "execute_result"
    }
   ],
   "source": [
    "sens2"
   ]
  },
  {
   "cell_type": "code",
   "execution_count": 12,
   "metadata": {},
   "outputs": [],
   "source": [
    "sens2 = sens2.astype('float')"
   ]
  },
  {
   "cell_type": "code",
   "execution_count": 13,
   "metadata": {},
   "outputs": [
    {
     "data": {
      "text/plain": [
       "latitude                float64\n",
       "longitude               float64\n",
       "humidity                float64\n",
       "temperature             float64\n",
       "P1                      float64\n",
       "P2                      float64\n",
       "pressure                float64\n",
       "pressure_at_sealevel    float64\n",
       "dtype: object"
      ]
     },
     "execution_count": 13,
     "metadata": {},
     "output_type": "execute_result"
    }
   ],
   "source": [
    "sens2.dtypes"
   ]
  },
  {
   "cell_type": "code",
   "execution_count": 14,
   "metadata": {},
   "outputs": [],
   "source": [
    "humid_values = sens2[sens2['humidity'].notnull()]"
   ]
  },
  {
   "cell_type": "code",
   "execution_count": 15,
   "metadata": {},
   "outputs": [],
   "source": [
    "locations = humid_values[['latitude', 'longitude']]\n",
    "weights = humid_values['humidity']"
   ]
  },
  {
   "cell_type": "code",
   "execution_count": 16,
   "metadata": {},
   "outputs": [
    {
     "data": {
      "text/html": [
       "<div>\n",
       "<style scoped>\n",
       "    .dataframe tbody tr th:only-of-type {\n",
       "        vertical-align: middle;\n",
       "    }\n",
       "\n",
       "    .dataframe tbody tr th {\n",
       "        vertical-align: top;\n",
       "    }\n",
       "\n",
       "    .dataframe thead th {\n",
       "        text-align: right;\n",
       "    }\n",
       "</style>\n",
       "<table border=\"1\" class=\"dataframe\">\n",
       "  <thead>\n",
       "    <tr style=\"text-align: right;\">\n",
       "      <th></th>\n",
       "      <th>latitude</th>\n",
       "      <th>longitude</th>\n",
       "    </tr>\n",
       "  </thead>\n",
       "  <tbody>\n",
       "    <tr>\n",
       "      <th>0</th>\n",
       "      <td>55.796000</td>\n",
       "      <td>13.090000</td>\n",
       "    </tr>\n",
       "    <tr>\n",
       "      <th>2</th>\n",
       "      <td>55.610000</td>\n",
       "      <td>12.100000</td>\n",
       "    </tr>\n",
       "    <tr>\n",
       "      <th>4</th>\n",
       "      <td>55.658000</td>\n",
       "      <td>13.358000</td>\n",
       "    </tr>\n",
       "    <tr>\n",
       "      <th>6</th>\n",
       "      <td>55.648000</td>\n",
       "      <td>13.208000</td>\n",
       "    </tr>\n",
       "    <tr>\n",
       "      <th>8</th>\n",
       "      <td>55.674000</td>\n",
       "      <td>13.354000</td>\n",
       "    </tr>\n",
       "    <tr>\n",
       "      <th>...</th>\n",
       "      <td>...</td>\n",
       "      <td>...</td>\n",
       "    </tr>\n",
       "    <tr>\n",
       "      <th>132</th>\n",
       "      <td>55.713015</td>\n",
       "      <td>13.336429</td>\n",
       "    </tr>\n",
       "    <tr>\n",
       "      <th>134</th>\n",
       "      <td>55.654000</td>\n",
       "      <td>12.138000</td>\n",
       "    </tr>\n",
       "    <tr>\n",
       "      <th>137</th>\n",
       "      <td>56.144000</td>\n",
       "      <td>13.394000</td>\n",
       "    </tr>\n",
       "    <tr>\n",
       "      <th>139</th>\n",
       "      <td>55.606000</td>\n",
       "      <td>13.024000</td>\n",
       "    </tr>\n",
       "    <tr>\n",
       "      <th>141</th>\n",
       "      <td>55.610000</td>\n",
       "      <td>12.100000</td>\n",
       "    </tr>\n",
       "  </tbody>\n",
       "</table>\n",
       "<p>64 rows × 2 columns</p>\n",
       "</div>"
      ],
      "text/plain": [
       "      latitude  longitude\n",
       "0    55.796000  13.090000\n",
       "2    55.610000  12.100000\n",
       "4    55.658000  13.358000\n",
       "6    55.648000  13.208000\n",
       "8    55.674000  13.354000\n",
       "..         ...        ...\n",
       "132  55.713015  13.336429\n",
       "134  55.654000  12.138000\n",
       "137  56.144000  13.394000\n",
       "139  55.606000  13.024000\n",
       "141  55.610000  12.100000\n",
       "\n",
       "[64 rows x 2 columns]"
      ]
     },
     "execution_count": 16,
     "metadata": {},
     "output_type": "execute_result"
    }
   ],
   "source": [
    "locations"
   ]
  },
  {
   "cell_type": "code",
   "execution_count": 17,
   "metadata": {},
   "outputs": [
    {
     "data": {
      "application/vnd.jupyter.widget-view+json": {
       "model_id": "7130fbfbc2db4667ac52bc5a5b30a2a5",
       "version_major": 2,
       "version_minor": 0
      },
      "text/plain": [
       "Figure(layout=FigureLayout(height='420px'))"
      ]
     },
     "metadata": {},
     "output_type": "display_data"
    }
   ],
   "source": [
    "fig = gmaps.figure()\n",
    "heatmap_layer = gmaps.heatmap_layer(locations, weights=weights)\n",
    "fig.add_layer(heatmap_layer)\n",
    "fig\n",
    "\n"
   ]
  },
  {
   "cell_type": "code",
   "execution_count": null,
   "metadata": {},
   "outputs": [],
   "source": []
  },
  {
   "cell_type": "code",
   "execution_count": 6,
   "metadata": {},
   "outputs": [
    {
     "data": {
      "text/plain": [
       "{'sampling_rate': None,\n",
       " 'location': {'country': 'SE',\n",
       "  'altitude': '8.2',\n",
       "  'id': 8180,\n",
       "  'indoor': 0,\n",
       "  'exact_location': 0,\n",
       "  'longitude': '13.024',\n",
       "  'latitude': '55.606'},\n",
       " 'sensordatavalues': [{'value_type': 'temperature',\n",
       "   'id': 12788794817,\n",
       "   'value': '7.86'},\n",
       "  {'value_type': 'pressure', 'id': 12788794818, 'value': '101336.69'},\n",
       "  {'value_type': 'humidity', 'id': 12788794820, 'value': '78.45'},\n",
       "  {'value_type': 'pressure_at_sealevel', 'value': 101437.74}],\n",
       " 'id': 6019977378,\n",
       " 'timestamp': '2020-01-09 10:48:53',\n",
       " 'sensor': {'sensor_type': {'name': 'BME280',\n",
       "   'id': 17,\n",
       "   'manufacturer': 'Bosch'},\n",
       "  'id': 16150,\n",
       "  'pin': '11'}}"
      ]
     },
     "execution_count": 6,
     "metadata": {},
     "output_type": "execute_result"
    }
   ],
   "source": [
    "sensors[0]"
   ]
  },
  {
   "cell_type": "markdown",
   "metadata": {},
   "source": [
    "Det finns olika typer av värden:\n",
    "\n",
    "* P1 är PM10, alltså partiklar mindre än 10 mikrometer\n",
    "* P2 är PM2.5, alltså partiklar mindre än 2,5 mikrometer\n",
    "* temperature är temperatur\n",
    "* humidity är luftfuktighet\n",
    "* pressure är lufttryck"
   ]
  }
 ],
 "metadata": {
  "kernelspec": {
   "display_name": "Python 3",
   "language": "python",
   "name": "python3"
  },
  "language_info": {
   "codemirror_mode": {
    "name": "ipython",
    "version": 3
   },
   "file_extension": ".py",
   "mimetype": "text/x-python",
   "name": "python",
   "nbconvert_exporter": "python",
   "pygments_lexer": "ipython3",
   "version": "3.7.5"
  }
 },
 "nbformat": 4,
 "nbformat_minor": 2
}
