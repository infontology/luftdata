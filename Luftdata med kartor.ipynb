{
 "cells": [
  {
   "cell_type": "markdown",
   "metadata": {},
   "source": [
    "## Luftdata med kartor\n",
    "\n",
    "Simon Winter, Infontology http://infontology.org\n",
    "\n",
    "\n",
    "\n",
    "I den här lektionen ska vi se hur man kan hitta data för luftföroreningar från det nätverk av sammankopplade sensorer som finns på Luftdata.se"
   ]
  },
  {
   "cell_type": "code",
   "execution_count": 1,
   "metadata": {},
   "outputs": [
    {
     "name": "stderr",
     "output_type": "stream",
     "text": [
      "/Users/management/.local/lib/python3.7/site-packages/requests/__init__.py:91: RequestsDependencyWarning: urllib3 (1.25.7) or chardet (3.0.4) doesn't match a supported version!\n",
      "  RequestsDependencyWarning)\n"
     ]
    }
   ],
   "source": [
    "import requests\n",
    "import pandas as pd\n",
    "import gmaps\n",
    "from credentials import key"
   ]
  },
  {
   "cell_type": "code",
   "execution_count": 2,
   "metadata": {},
   "outputs": [],
   "source": [
    "# https://console.developers.google.com/apis/dashboard?project=natural-furnace-264420\n",
    "gmaps.configure(api_key=key)"
   ]
  },
  {
   "cell_type": "code",
   "execution_count": 50,
   "metadata": {},
   "outputs": [],
   "source": [
    "latitude = '55.611437'\n",
    "longitude = '12.994264'\n",
    "distance = '10' # Avstånd i kilometer"
   ]
  },
  {
   "cell_type": "markdown",
   "metadata": {},
   "source": [
    "Med hjälp av koordinaterna så skapar vi urlen. Lämna tomma platser inom {} i textsträngen, och ge variabelnamnen i format-parentesen"
   ]
  },
  {
   "cell_type": "code",
   "execution_count": 51,
   "metadata": {},
   "outputs": [
    {
     "data": {
      "text/plain": [
       "'http://api.luftdaten.info/v1/filter/area=55.611437,12.994264,10'"
      ]
     },
     "execution_count": 51,
     "metadata": {},
     "output_type": "execute_result"
    }
   ],
   "source": [
    "url = 'http://api.luftdaten.info/v1/filter/area={},{},{}'.format(latitude, longitude, distance)\n",
    "url ## Om man ger ett variabelnamn på sista raden av en cell skrivs värdet ut. Det går också att göra print(url)"
   ]
  },
  {
   "cell_type": "markdown",
   "metadata": {},
   "source": [
    "Requests-biblioteket gör det lätt att hantera frågor till servern. "
   ]
  },
  {
   "cell_type": "code",
   "execution_count": 52,
   "metadata": {},
   "outputs": [],
   "source": [
    "response = requests.get(url)"
   ]
  },
  {
   "cell_type": "code",
   "execution_count": 53,
   "metadata": {},
   "outputs": [
    {
     "data": {
      "text/plain": [
       "20"
      ]
     },
     "execution_count": 53,
     "metadata": {},
     "output_type": "execute_result"
    }
   ],
   "source": [
    "sensors = response.json()\n",
    "number_of_sensors = len(sensors)\n",
    "number_of_sensors"
   ]
  },
  {
   "cell_type": "markdown",
   "metadata": {},
   "source": [
    "Om number_of_sensors är större än 0 så finns det sensorer i listan. Då kan man få fram sensorvärdena på olika sätt. Det första värdet ligger alltid i sensors[0]"
   ]
  },
  {
   "cell_type": "code",
   "execution_count": 54,
   "metadata": {},
   "outputs": [],
   "source": [
    "sens2 = pd.DataFrame(columns=['latitude', 'longitude'])"
   ]
  },
  {
   "cell_type": "code",
   "execution_count": 55,
   "metadata": {},
   "outputs": [
    {
     "data": {
      "text/html": [
       "<div>\n",
       "<style scoped>\n",
       "    .dataframe tbody tr th:only-of-type {\n",
       "        vertical-align: middle;\n",
       "    }\n",
       "\n",
       "    .dataframe tbody tr th {\n",
       "        vertical-align: top;\n",
       "    }\n",
       "\n",
       "    .dataframe thead th {\n",
       "        text-align: right;\n",
       "    }\n",
       "</style>\n",
       "<table border=\"1\" class=\"dataframe\">\n",
       "  <thead>\n",
       "    <tr style=\"text-align: right;\">\n",
       "      <th></th>\n",
       "      <th>latitude</th>\n",
       "      <th>longitude</th>\n",
       "    </tr>\n",
       "  </thead>\n",
       "  <tbody>\n",
       "  </tbody>\n",
       "</table>\n",
       "</div>"
      ],
      "text/plain": [
       "Empty DataFrame\n",
       "Columns: [latitude, longitude]\n",
       "Index: []"
      ]
     },
     "execution_count": 55,
     "metadata": {},
     "output_type": "execute_result"
    }
   ],
   "source": [
    "sens2"
   ]
  },
  {
   "cell_type": "code",
   "execution_count": 56,
   "metadata": {},
   "outputs": [],
   "source": [
    "def create_sensordict (sensor):\n",
    "    sensordict = {}\n",
    "    sensordict['longitude'] = sensor['location']['longitude']\n",
    "    sensordict['latitude'] = sensor['location']['latitude']\n",
    "    for stype in sensor['sensordatavalues']:\n",
    "        sensordict[stype['value_type']] = stype['value']\n",
    "    return sensordict"
   ]
  },
  {
   "cell_type": "code",
   "execution_count": 57,
   "metadata": {},
   "outputs": [],
   "source": [
    "for sensor in sensors:\n",
    "    sens2 = sens2.append (create_sensordict(sensor), ignore_index=True)\n",
    "\n",
    "    "
   ]
  },
  {
   "cell_type": "code",
   "execution_count": 58,
   "metadata": {},
   "outputs": [
    {
     "data": {
      "text/html": [
       "<div>\n",
       "<style scoped>\n",
       "    .dataframe tbody tr th:only-of-type {\n",
       "        vertical-align: middle;\n",
       "    }\n",
       "\n",
       "    .dataframe tbody tr th {\n",
       "        vertical-align: top;\n",
       "    }\n",
       "\n",
       "    .dataframe thead th {\n",
       "        text-align: right;\n",
       "    }\n",
       "</style>\n",
       "<table border=\"1\" class=\"dataframe\">\n",
       "  <thead>\n",
       "    <tr style=\"text-align: right;\">\n",
       "      <th></th>\n",
       "      <th>latitude</th>\n",
       "      <th>longitude</th>\n",
       "      <th>humidity</th>\n",
       "      <th>pressure</th>\n",
       "      <th>pressure_at_sealevel</th>\n",
       "      <th>temperature</th>\n",
       "      <th>P1</th>\n",
       "      <th>P2</th>\n",
       "    </tr>\n",
       "  </thead>\n",
       "  <tbody>\n",
       "    <tr>\n",
       "      <th>0</th>\n",
       "      <td>55.606</td>\n",
       "      <td>13.024</td>\n",
       "      <td>81.28</td>\n",
       "      <td>100711.59</td>\n",
       "      <td>100811.71</td>\n",
       "      <td>8.70</td>\n",
       "      <td>NaN</td>\n",
       "      <td>NaN</td>\n",
       "    </tr>\n",
       "    <tr>\n",
       "      <th>1</th>\n",
       "      <td>55.606</td>\n",
       "      <td>13.024</td>\n",
       "      <td>NaN</td>\n",
       "      <td>NaN</td>\n",
       "      <td>NaN</td>\n",
       "      <td>NaN</td>\n",
       "      <td>4.50</td>\n",
       "      <td>2.70</td>\n",
       "    </tr>\n",
       "    <tr>\n",
       "      <th>2</th>\n",
       "      <td>55.662</td>\n",
       "      <td>13.114</td>\n",
       "      <td>NaN</td>\n",
       "      <td>NaN</td>\n",
       "      <td>NaN</td>\n",
       "      <td>NaN</td>\n",
       "      <td>3.13</td>\n",
       "      <td>1.40</td>\n",
       "    </tr>\n",
       "    <tr>\n",
       "      <th>3</th>\n",
       "      <td>55.578</td>\n",
       "      <td>12.968</td>\n",
       "      <td>99.90</td>\n",
       "      <td>NaN</td>\n",
       "      <td>NaN</td>\n",
       "      <td>8.20</td>\n",
       "      <td>NaN</td>\n",
       "      <td>NaN</td>\n",
       "    </tr>\n",
       "    <tr>\n",
       "      <th>4</th>\n",
       "      <td>55.578</td>\n",
       "      <td>12.968</td>\n",
       "      <td>NaN</td>\n",
       "      <td>NaN</td>\n",
       "      <td>NaN</td>\n",
       "      <td>NaN</td>\n",
       "      <td>11.20</td>\n",
       "      <td>5.30</td>\n",
       "    </tr>\n",
       "    <tr>\n",
       "      <th>5</th>\n",
       "      <td>55.606</td>\n",
       "      <td>12.998</td>\n",
       "      <td>86.80</td>\n",
       "      <td>NaN</td>\n",
       "      <td>NaN</td>\n",
       "      <td>7.70</td>\n",
       "      <td>NaN</td>\n",
       "      <td>NaN</td>\n",
       "    </tr>\n",
       "    <tr>\n",
       "      <th>6</th>\n",
       "      <td>55.606</td>\n",
       "      <td>12.998</td>\n",
       "      <td>NaN</td>\n",
       "      <td>NaN</td>\n",
       "      <td>NaN</td>\n",
       "      <td>NaN</td>\n",
       "      <td>4.17</td>\n",
       "      <td>3.50</td>\n",
       "    </tr>\n",
       "    <tr>\n",
       "      <th>7</th>\n",
       "      <td>55.53</td>\n",
       "      <td>12.932</td>\n",
       "      <td>NaN</td>\n",
       "      <td>NaN</td>\n",
       "      <td>NaN</td>\n",
       "      <td>NaN</td>\n",
       "      <td>37.42</td>\n",
       "      <td>10.13</td>\n",
       "    </tr>\n",
       "    <tr>\n",
       "      <th>8</th>\n",
       "      <td>55.674</td>\n",
       "      <td>13.074</td>\n",
       "      <td>NaN</td>\n",
       "      <td>NaN</td>\n",
       "      <td>NaN</td>\n",
       "      <td>NaN</td>\n",
       "      <td>1.77</td>\n",
       "      <td>1.00</td>\n",
       "    </tr>\n",
       "    <tr>\n",
       "      <th>9</th>\n",
       "      <td>55.606</td>\n",
       "      <td>13.024</td>\n",
       "      <td>81.24</td>\n",
       "      <td>100716.31</td>\n",
       "      <td>100816.45</td>\n",
       "      <td>8.68</td>\n",
       "      <td>NaN</td>\n",
       "      <td>NaN</td>\n",
       "    </tr>\n",
       "    <tr>\n",
       "      <th>10</th>\n",
       "      <td>55.606</td>\n",
       "      <td>13.024</td>\n",
       "      <td>NaN</td>\n",
       "      <td>NaN</td>\n",
       "      <td>NaN</td>\n",
       "      <td>NaN</td>\n",
       "      <td>3.33</td>\n",
       "      <td>2.83</td>\n",
       "    </tr>\n",
       "    <tr>\n",
       "      <th>11</th>\n",
       "      <td>55.662</td>\n",
       "      <td>13.114</td>\n",
       "      <td>NaN</td>\n",
       "      <td>NaN</td>\n",
       "      <td>NaN</td>\n",
       "      <td>NaN</td>\n",
       "      <td>1.23</td>\n",
       "      <td>1.00</td>\n",
       "    </tr>\n",
       "    <tr>\n",
       "      <th>12</th>\n",
       "      <td>55.578</td>\n",
       "      <td>12.968</td>\n",
       "      <td>99.90</td>\n",
       "      <td>NaN</td>\n",
       "      <td>NaN</td>\n",
       "      <td>8.20</td>\n",
       "      <td>NaN</td>\n",
       "      <td>NaN</td>\n",
       "    </tr>\n",
       "    <tr>\n",
       "      <th>13</th>\n",
       "      <td>55.578</td>\n",
       "      <td>12.968</td>\n",
       "      <td>NaN</td>\n",
       "      <td>NaN</td>\n",
       "      <td>NaN</td>\n",
       "      <td>NaN</td>\n",
       "      <td>8.80</td>\n",
       "      <td>5.03</td>\n",
       "    </tr>\n",
       "    <tr>\n",
       "      <th>14</th>\n",
       "      <td>55.53</td>\n",
       "      <td>12.932</td>\n",
       "      <td>NaN</td>\n",
       "      <td>NaN</td>\n",
       "      <td>NaN</td>\n",
       "      <td>NaN</td>\n",
       "      <td>32.00</td>\n",
       "      <td>8.88</td>\n",
       "    </tr>\n",
       "    <tr>\n",
       "      <th>15</th>\n",
       "      <td>55.606</td>\n",
       "      <td>12.998</td>\n",
       "      <td>86.70</td>\n",
       "      <td>NaN</td>\n",
       "      <td>NaN</td>\n",
       "      <td>7.60</td>\n",
       "      <td>NaN</td>\n",
       "      <td>NaN</td>\n",
       "    </tr>\n",
       "    <tr>\n",
       "      <th>16</th>\n",
       "      <td>55.606</td>\n",
       "      <td>12.998</td>\n",
       "      <td>NaN</td>\n",
       "      <td>NaN</td>\n",
       "      <td>NaN</td>\n",
       "      <td>NaN</td>\n",
       "      <td>5.20</td>\n",
       "      <td>4.40</td>\n",
       "    </tr>\n",
       "    <tr>\n",
       "      <th>17</th>\n",
       "      <td>55.674</td>\n",
       "      <td>13.074</td>\n",
       "      <td>NaN</td>\n",
       "      <td>NaN</td>\n",
       "      <td>NaN</td>\n",
       "      <td>NaN</td>\n",
       "      <td>2.80</td>\n",
       "      <td>1.65</td>\n",
       "    </tr>\n",
       "    <tr>\n",
       "      <th>18</th>\n",
       "      <td>55.606</td>\n",
       "      <td>13.024</td>\n",
       "      <td>81.22</td>\n",
       "      <td>100718.31</td>\n",
       "      <td>100818.45</td>\n",
       "      <td>8.66</td>\n",
       "      <td>NaN</td>\n",
       "      <td>NaN</td>\n",
       "    </tr>\n",
       "    <tr>\n",
       "      <th>19</th>\n",
       "      <td>55.606</td>\n",
       "      <td>13.024</td>\n",
       "      <td>NaN</td>\n",
       "      <td>NaN</td>\n",
       "      <td>NaN</td>\n",
       "      <td>NaN</td>\n",
       "      <td>3.20</td>\n",
       "      <td>2.60</td>\n",
       "    </tr>\n",
       "  </tbody>\n",
       "</table>\n",
       "</div>"
      ],
      "text/plain": [
       "   latitude longitude humidity   pressure  pressure_at_sealevel temperature  \\\n",
       "0    55.606    13.024    81.28  100711.59             100811.71        8.70   \n",
       "1    55.606    13.024      NaN        NaN                   NaN         NaN   \n",
       "2    55.662    13.114      NaN        NaN                   NaN         NaN   \n",
       "3    55.578    12.968    99.90        NaN                   NaN        8.20   \n",
       "4    55.578    12.968      NaN        NaN                   NaN         NaN   \n",
       "5    55.606    12.998    86.80        NaN                   NaN        7.70   \n",
       "6    55.606    12.998      NaN        NaN                   NaN         NaN   \n",
       "7     55.53    12.932      NaN        NaN                   NaN         NaN   \n",
       "8    55.674    13.074      NaN        NaN                   NaN         NaN   \n",
       "9    55.606    13.024    81.24  100716.31             100816.45        8.68   \n",
       "10   55.606    13.024      NaN        NaN                   NaN         NaN   \n",
       "11   55.662    13.114      NaN        NaN                   NaN         NaN   \n",
       "12   55.578    12.968    99.90        NaN                   NaN        8.20   \n",
       "13   55.578    12.968      NaN        NaN                   NaN         NaN   \n",
       "14    55.53    12.932      NaN        NaN                   NaN         NaN   \n",
       "15   55.606    12.998    86.70        NaN                   NaN        7.60   \n",
       "16   55.606    12.998      NaN        NaN                   NaN         NaN   \n",
       "17   55.674    13.074      NaN        NaN                   NaN         NaN   \n",
       "18   55.606    13.024    81.22  100718.31             100818.45        8.66   \n",
       "19   55.606    13.024      NaN        NaN                   NaN         NaN   \n",
       "\n",
       "       P1     P2  \n",
       "0     NaN    NaN  \n",
       "1    4.50   2.70  \n",
       "2    3.13   1.40  \n",
       "3     NaN    NaN  \n",
       "4   11.20   5.30  \n",
       "5     NaN    NaN  \n",
       "6    4.17   3.50  \n",
       "7   37.42  10.13  \n",
       "8    1.77   1.00  \n",
       "9     NaN    NaN  \n",
       "10   3.33   2.83  \n",
       "11   1.23   1.00  \n",
       "12    NaN    NaN  \n",
       "13   8.80   5.03  \n",
       "14  32.00   8.88  \n",
       "15    NaN    NaN  \n",
       "16   5.20   4.40  \n",
       "17   2.80   1.65  \n",
       "18    NaN    NaN  \n",
       "19   3.20   2.60  "
      ]
     },
     "execution_count": 58,
     "metadata": {},
     "output_type": "execute_result"
    }
   ],
   "source": [
    "sens2"
   ]
  },
  {
   "cell_type": "code",
   "execution_count": 66,
   "metadata": {},
   "outputs": [],
   "source": [
    "humid_values = sens2[sens2['humidity'].notnull()]"
   ]
  },
  {
   "cell_type": "code",
   "execution_count": 67,
   "metadata": {},
   "outputs": [
    {
     "data": {
      "text/plain": [
       "0     81.28\n",
       "3     99.90\n",
       "5     86.80\n",
       "9     81.24\n",
       "12    99.90\n",
       "15    86.70\n",
       "18    81.22\n",
       "Name: humidity, dtype: float64"
      ]
     },
     "execution_count": 67,
     "metadata": {},
     "output_type": "execute_result"
    }
   ],
   "source": [
    "humid_values['humidity']"
   ]
  },
  {
   "cell_type": "code",
   "execution_count": 61,
   "metadata": {},
   "outputs": [],
   "source": [
    "sens2 = sens2.astype('float')"
   ]
  },
  {
   "cell_type": "code",
   "execution_count": 62,
   "metadata": {},
   "outputs": [
    {
     "data": {
      "text/plain": [
       "latitude                float64\n",
       "longitude               float64\n",
       "humidity                float64\n",
       "pressure                float64\n",
       "pressure_at_sealevel    float64\n",
       "temperature             float64\n",
       "P1                      float64\n",
       "P2                      float64\n",
       "dtype: object"
      ]
     },
     "execution_count": 62,
     "metadata": {},
     "output_type": "execute_result"
    }
   ],
   "source": [
    "sens2.dtypes"
   ]
  },
  {
   "cell_type": "code",
   "execution_count": 69,
   "metadata": {},
   "outputs": [],
   "source": [
    "locations = humid_values[['latitude', 'longitude']]\n",
    "weights = humid_values['humidity']"
   ]
  },
  {
   "cell_type": "code",
   "execution_count": 70,
   "metadata": {},
   "outputs": [
    {
     "data": {
      "text/html": [
       "<div>\n",
       "<style scoped>\n",
       "    .dataframe tbody tr th:only-of-type {\n",
       "        vertical-align: middle;\n",
       "    }\n",
       "\n",
       "    .dataframe tbody tr th {\n",
       "        vertical-align: top;\n",
       "    }\n",
       "\n",
       "    .dataframe thead th {\n",
       "        text-align: right;\n",
       "    }\n",
       "</style>\n",
       "<table border=\"1\" class=\"dataframe\">\n",
       "  <thead>\n",
       "    <tr style=\"text-align: right;\">\n",
       "      <th></th>\n",
       "      <th>latitude</th>\n",
       "      <th>longitude</th>\n",
       "    </tr>\n",
       "  </thead>\n",
       "  <tbody>\n",
       "    <tr>\n",
       "      <th>0</th>\n",
       "      <td>55.606</td>\n",
       "      <td>13.024</td>\n",
       "    </tr>\n",
       "    <tr>\n",
       "      <th>3</th>\n",
       "      <td>55.578</td>\n",
       "      <td>12.968</td>\n",
       "    </tr>\n",
       "    <tr>\n",
       "      <th>5</th>\n",
       "      <td>55.606</td>\n",
       "      <td>12.998</td>\n",
       "    </tr>\n",
       "    <tr>\n",
       "      <th>9</th>\n",
       "      <td>55.606</td>\n",
       "      <td>13.024</td>\n",
       "    </tr>\n",
       "    <tr>\n",
       "      <th>12</th>\n",
       "      <td>55.578</td>\n",
       "      <td>12.968</td>\n",
       "    </tr>\n",
       "    <tr>\n",
       "      <th>15</th>\n",
       "      <td>55.606</td>\n",
       "      <td>12.998</td>\n",
       "    </tr>\n",
       "    <tr>\n",
       "      <th>18</th>\n",
       "      <td>55.606</td>\n",
       "      <td>13.024</td>\n",
       "    </tr>\n",
       "  </tbody>\n",
       "</table>\n",
       "</div>"
      ],
      "text/plain": [
       "    latitude  longitude\n",
       "0     55.606     13.024\n",
       "3     55.578     12.968\n",
       "5     55.606     12.998\n",
       "9     55.606     13.024\n",
       "12    55.578     12.968\n",
       "15    55.606     12.998\n",
       "18    55.606     13.024"
      ]
     },
     "execution_count": 70,
     "metadata": {},
     "output_type": "execute_result"
    }
   ],
   "source": [
    "locations"
   ]
  },
  {
   "cell_type": "code",
   "execution_count": 71,
   "metadata": {},
   "outputs": [
    {
     "data": {
      "application/vnd.jupyter.widget-view+json": {
       "model_id": "a43cd243d4964381a153d96a9e6787b3",
       "version_major": 2,
       "version_minor": 0
      },
      "text/plain": [
       "Figure(layout=FigureLayout(height='420px'))"
      ]
     },
     "metadata": {},
     "output_type": "display_data"
    }
   ],
   "source": [
    "fig = gmaps.figure()\n",
    "heatmap_layer = gmaps.heatmap_layer(locations, weights=weights)\n",
    "fig.add_layer(heatmap_layer)\n",
    "fig\n",
    "\n"
   ]
  },
  {
   "cell_type": "code",
   "execution_count": null,
   "metadata": {},
   "outputs": [],
   "source": []
  },
  {
   "cell_type": "code",
   "execution_count": 21,
   "metadata": {},
   "outputs": [],
   "source": [
    "sensframe = pd.DataFrame()"
   ]
  },
  {
   "cell_type": "code",
   "execution_count": null,
   "metadata": {},
   "outputs": [],
   "source": [
    "sensframe.append()"
   ]
  },
  {
   "cell_type": "code",
   "execution_count": 11,
   "metadata": {},
   "outputs": [],
   "source": [
    "longitudes = [sensor['location']['longitude'] for sensor in sensors]\n",
    "latitudes = [sensor['location']['latitude'] for sensor in sensors]"
   ]
  },
  {
   "cell_type": "code",
   "execution_count": 12,
   "metadata": {},
   "outputs": [],
   "source": [
    "sens = pd.DataFrame(data=longitudes, columns = ['longitude'] )"
   ]
  },
  {
   "cell_type": "code",
   "execution_count": 13,
   "metadata": {},
   "outputs": [],
   "source": [
    "sens['latitude'] = latitudes"
   ]
  },
  {
   "cell_type": "code",
   "execution_count": 14,
   "metadata": {},
   "outputs": [
    {
     "data": {
      "text/html": [
       "<div>\n",
       "<style scoped>\n",
       "    .dataframe tbody tr th:only-of-type {\n",
       "        vertical-align: middle;\n",
       "    }\n",
       "\n",
       "    .dataframe tbody tr th {\n",
       "        vertical-align: top;\n",
       "    }\n",
       "\n",
       "    .dataframe thead th {\n",
       "        text-align: right;\n",
       "    }\n",
       "</style>\n",
       "<table border=\"1\" class=\"dataframe\">\n",
       "  <thead>\n",
       "    <tr style=\"text-align: right;\">\n",
       "      <th></th>\n",
       "      <th>longitude</th>\n",
       "      <th>latitude</th>\n",
       "    </tr>\n",
       "  </thead>\n",
       "  <tbody>\n",
       "    <tr>\n",
       "      <th>0</th>\n",
       "      <td>13.024</td>\n",
       "      <td>55.606</td>\n",
       "    </tr>\n",
       "    <tr>\n",
       "      <th>1</th>\n",
       "      <td>13.024</td>\n",
       "      <td>55.606</td>\n",
       "    </tr>\n",
       "    <tr>\n",
       "      <th>2</th>\n",
       "      <td>13.024</td>\n",
       "      <td>55.606</td>\n",
       "    </tr>\n",
       "    <tr>\n",
       "      <th>3</th>\n",
       "      <td>13.024</td>\n",
       "      <td>55.606</td>\n",
       "    </tr>\n",
       "    <tr>\n",
       "      <th>4</th>\n",
       "      <td>12.998</td>\n",
       "      <td>55.606</td>\n",
       "    </tr>\n",
       "    <tr>\n",
       "      <th>5</th>\n",
       "      <td>12.998</td>\n",
       "      <td>55.606</td>\n",
       "    </tr>\n",
       "    <tr>\n",
       "      <th>6</th>\n",
       "      <td>13.024</td>\n",
       "      <td>55.606</td>\n",
       "    </tr>\n",
       "  </tbody>\n",
       "</table>\n",
       "</div>"
      ],
      "text/plain": [
       "  longitude latitude\n",
       "0    13.024   55.606\n",
       "1    13.024   55.606\n",
       "2    13.024   55.606\n",
       "3    13.024   55.606\n",
       "4    12.998   55.606\n",
       "5    12.998   55.606\n",
       "6    13.024   55.606"
      ]
     },
     "execution_count": 14,
     "metadata": {},
     "output_type": "execute_result"
    }
   ],
   "source": [
    "sens"
   ]
  },
  {
   "cell_type": "code",
   "execution_count": 20,
   "metadata": {},
   "outputs": [
    {
     "data": {
      "text/html": [
       "<div>\n",
       "<style scoped>\n",
       "    .dataframe tbody tr th:only-of-type {\n",
       "        vertical-align: middle;\n",
       "    }\n",
       "\n",
       "    .dataframe tbody tr th {\n",
       "        vertical-align: top;\n",
       "    }\n",
       "\n",
       "    .dataframe thead th {\n",
       "        text-align: right;\n",
       "    }\n",
       "</style>\n",
       "<table border=\"1\" class=\"dataframe\">\n",
       "  <thead>\n",
       "    <tr style=\"text-align: right;\">\n",
       "      <th></th>\n",
       "      <th>latitude</th>\n",
       "      <th>longitude</th>\n",
       "      <th>humidity</th>\n",
       "      <th>pressure</th>\n",
       "      <th>pressure_at_sealevel</th>\n",
       "      <th>temperature</th>\n",
       "    </tr>\n",
       "  </thead>\n",
       "  <tbody>\n",
       "    <tr>\n",
       "      <th>0</th>\n",
       "      <td>55.606</td>\n",
       "      <td>13.024</td>\n",
       "      <td>80.79</td>\n",
       "      <td>100784.44</td>\n",
       "      <td>100884.77</td>\n",
       "      <td>8.33</td>\n",
       "    </tr>\n",
       "  </tbody>\n",
       "</table>\n",
       "</div>"
      ],
      "text/plain": [
       "  latitude longitude humidity   pressure  pressure_at_sealevel temperature\n",
       "0   55.606    13.024    80.79  100784.44             100884.77        8.33"
      ]
     },
     "execution_count": 20,
     "metadata": {},
     "output_type": "execute_result"
    }
   ],
   "source": [
    "sens2.append({'longitude': '13.024', 'latitude': '55.606', 'temperature': '8.33', 'pressure': '100784.44', 'humidity': '80.79', 'pressure_at_sealevel': 100884.77}, ignore_index=True)"
   ]
  },
  {
   "cell_type": "code",
   "execution_count": null,
   "metadata": {},
   "outputs": [],
   "source": []
  },
  {
   "cell_type": "code",
   "execution_count": 23,
   "metadata": {},
   "outputs": [],
   "source": [
    "df.latitude = [sensor['location']['latitude'] for sensor in sensors]"
   ]
  },
  {
   "cell_type": "code",
   "execution_count": 27,
   "metadata": {},
   "outputs": [
    {
     "data": {
      "text/plain": [
       "pandas.core.frame.DataFrame"
      ]
     },
     "execution_count": 27,
     "metadata": {},
     "output_type": "execute_result"
    }
   ],
   "source": [
    "df"
   ]
  },
  {
   "cell_type": "code",
   "execution_count": 41,
   "metadata": {},
   "outputs": [],
   "source": [
    "def get_values (sensor):\n",
    "    for stype in sensor['sensordatavalues']:\n",
    "        print (stype['value_type'], stype['value'])"
   ]
  },
  {
   "cell_type": "code",
   "execution_count": 43,
   "metadata": {},
   "outputs": [
    {
     "name": "stdout",
     "output_type": "stream",
     "text": [
      "temperature 7.86\n",
      "pressure 101336.69\n",
      "humidity 78.45\n",
      "pressure_at_sealevel 101437.74\n"
     ]
    }
   ],
   "source": [
    "get_values(sensors[0])"
   ]
  },
  {
   "cell_type": "code",
   "execution_count": 6,
   "metadata": {},
   "outputs": [
    {
     "data": {
      "text/plain": [
       "{'sampling_rate': None,\n",
       " 'location': {'country': 'SE',\n",
       "  'altitude': '8.2',\n",
       "  'id': 8180,\n",
       "  'indoor': 0,\n",
       "  'exact_location': 0,\n",
       "  'longitude': '13.024',\n",
       "  'latitude': '55.606'},\n",
       " 'sensordatavalues': [{'value_type': 'temperature',\n",
       "   'id': 12788794817,\n",
       "   'value': '7.86'},\n",
       "  {'value_type': 'pressure', 'id': 12788794818, 'value': '101336.69'},\n",
       "  {'value_type': 'humidity', 'id': 12788794820, 'value': '78.45'},\n",
       "  {'value_type': 'pressure_at_sealevel', 'value': 101437.74}],\n",
       " 'id': 6019977378,\n",
       " 'timestamp': '2020-01-09 10:48:53',\n",
       " 'sensor': {'sensor_type': {'name': 'BME280',\n",
       "   'id': 17,\n",
       "   'manufacturer': 'Bosch'},\n",
       "  'id': 16150,\n",
       "  'pin': '11'}}"
      ]
     },
     "execution_count": 6,
     "metadata": {},
     "output_type": "execute_result"
    }
   ],
   "source": [
    "sensors[0]"
   ]
  },
  {
   "cell_type": "markdown",
   "metadata": {},
   "source": [
    "Själva värdena ligger i sensordatavalues"
   ]
  },
  {
   "cell_type": "code",
   "execution_count": 7,
   "metadata": {},
   "outputs": [
    {
     "data": {
      "text/plain": [
       "[{'value_type': 'temperature', 'id': 12788794817, 'value': '7.86'},\n",
       " {'value_type': 'pressure', 'id': 12788794818, 'value': '101336.69'},\n",
       " {'value_type': 'humidity', 'id': 12788794820, 'value': '78.45'},\n",
       " {'value_type': 'pressure_at_sealevel', 'value': 101437.74}]"
      ]
     },
     "execution_count": 7,
     "metadata": {},
     "output_type": "execute_result"
    }
   ],
   "source": [
    "sensors[0]['sensordatavalues']"
   ]
  },
  {
   "cell_type": "markdown",
   "metadata": {},
   "source": [
    "Det finns olika typer av värden:\n",
    "\n",
    "* P1 är PM10, alltså partiklar mindre än 10 mikrometer\n",
    "* P2 är PM2.5, alltså partiklar mindre än 2,5 mikrometer\n",
    "* temperature är temperatur\n",
    "* humidity är luftfuktighet\n",
    "* pressure är lufttryck"
   ]
  },
  {
   "cell_type": "markdown",
   "metadata": {},
   "source": [
    "Man kan loopa genom sensorvärdena på olika sätt, exempelvis så här:"
   ]
  },
  {
   "cell_type": "code",
   "execution_count": 81,
   "metadata": {},
   "outputs": [
    {
     "name": "stdout",
     "output_type": "stream",
     "text": [
      "Sensorvärden:\n",
      "{'id': 7812380304, 'value_type': 'P1', 'value': '15.43'}\n",
      "{'id': 7812380306, 'value_type': 'P2', 'value': '12.17'}\n",
      "\n",
      "\n",
      "Sensorvärden:\n",
      "{'id': 7812380431, 'value_type': 'humidity', 'value': '62.57'}\n",
      "{'id': 7812380432, 'value_type': 'pressure', 'value': '100727.06'}\n",
      "{'id': 7812380430, 'value_type': 'temperature', 'value': '20.91'}\n",
      "{'value_type': 'pressure_at_sealevel', 'value': 100823.04}\n",
      "\n",
      "\n",
      "Sensorvärden:\n",
      "{'id': 7812394835, 'value_type': 'P1', 'value': '14.68'}\n",
      "{'id': 7812394837, 'value_type': 'P2', 'value': '12.25'}\n",
      "\n",
      "\n",
      "Sensorvärden:\n",
      "{'id': 7812414393, 'value_type': 'P1', 'value': '18.17'}\n",
      "{'id': 7812414394, 'value_type': 'P2', 'value': '12.43'}\n",
      "\n",
      "\n",
      "Sensorvärden:\n",
      "{'id': 7812414500, 'value_type': 'humidity', 'value': '62.53'}\n",
      "{'id': 7812414501, 'value_type': 'pressure', 'value': '100717.98'}\n",
      "{'id': 7812414499, 'value_type': 'temperature', 'value': '20.87'}\n",
      "{'value_type': 'pressure_at_sealevel', 'value': 100813.96}\n",
      "\n",
      "\n",
      "Sensorvärden:\n",
      "{'id': 7812429027, 'value_type': 'P1', 'value': '17.07'}\n",
      "{'id': 7812429028, 'value_type': 'P2', 'value': '13.03'}\n",
      "\n",
      "\n"
     ]
    }
   ],
   "source": [
    "for sensor in sensors:\n",
    "    print ('Sensorvärden:')\n",
    "    for value in sensor['sensordatavalues']:\n",
    "        print (value)\n",
    "    print ('\\n')"
   ]
  },
  {
   "cell_type": "code",
   "execution_count": 14,
   "metadata": {},
   "outputs": [
    {
     "data": {
      "application/vnd.jupyter.widget-view+json": {
       "model_id": "3dbfbd7f8d16467692ecc0d84af5bdd7",
       "version_major": 2,
       "version_minor": 0
      },
      "text/plain": [
       "Figure(layout=FigureLayout(height='420px'))"
      ]
     },
     "metadata": {},
     "output_type": "display_data"
    }
   ],
   "source": [
    "fig = gmaps.figure()\n",
    "fig.add_layer(gmaps.heatmap_layer(locations, weights=weights))\n",
    "fig"
   ]
  },
  {
   "cell_type": "code",
   "execution_count": null,
   "metadata": {},
   "outputs": [],
   "source": []
  },
  {
   "cell_type": "code",
   "execution_count": null,
   "metadata": {},
   "outputs": [],
   "source": []
  }
 ],
 "metadata": {
  "kernelspec": {
   "display_name": "Python 3",
   "language": "python",
   "name": "python3"
  },
  "language_info": {
   "codemirror_mode": {
    "name": "ipython",
    "version": 3
   },
   "file_extension": ".py",
   "mimetype": "text/x-python",
   "name": "python",
   "nbconvert_exporter": "python",
   "pygments_lexer": "ipython3",
   "version": "3.7.5"
  }
 },
 "nbformat": 4,
 "nbformat_minor": 2
}
