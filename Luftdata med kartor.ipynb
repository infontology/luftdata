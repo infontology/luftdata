{
 "cells": [
  {
   "cell_type": "markdown",
   "metadata": {},
   "source": [
    "## Luftdata med kartor\n",
    "\n",
    "Simon Winter, Infontology http://infontology.org\n",
    "\n",
    "\n",
    "\n",
    "I den här lektionen ska vi se hur man kan hitta data för luftföroreningar från det nätverk av sammankopplade sensorer som finns på Luftdata.se"
   ]
  },
  {
   "cell_type": "code",
   "execution_count": 2,
   "metadata": {},
   "outputs": [],
   "source": [
    "import requests\n",
    "import pandas as pd\n",
    "import gmaps\n",
    "from credentials import key"
   ]
  },
  {
   "cell_type": "code",
   "execution_count": 3,
   "metadata": {},
   "outputs": [],
   "source": [
    "# https://console.developers.google.com/apis/dashboard?project=natural-furnace-264420\n",
    "gmaps.configure(api_key=key)"
   ]
  },
  {
   "cell_type": "code",
   "execution_count": 4,
   "metadata": {},
   "outputs": [],
   "source": [
    "latitude = '55.611437'\n",
    "longitude = '12.994264'\n",
    "distance = '2' # Avstånd i kilometer"
   ]
  },
  {
   "cell_type": "markdown",
   "metadata": {},
   "source": [
    "Med hjälp av koordinaterna så skapar vi urlen. Lämna tomma platser inom {} i textsträngen, och ge variabelnamnen i format-parentesen"
   ]
  },
  {
   "cell_type": "code",
   "execution_count": 5,
   "metadata": {},
   "outputs": [
    {
     "data": {
      "text/plain": [
       "'http://api.luftdaten.info/v1/filter/area=55.611437,12.994264,2'"
      ]
     },
     "execution_count": 5,
     "metadata": {},
     "output_type": "execute_result"
    }
   ],
   "source": [
    "url = 'http://api.luftdaten.info/v1/filter/area={},{},{}'.format(latitude, longitude, distance)\n",
    "url ## Om man ger ett variabelnamn på sista raden av en cell skrivs värdet ut. Det går också att göra print(url)"
   ]
  },
  {
   "cell_type": "markdown",
   "metadata": {},
   "source": [
    "Requests-biblioteket gör det lätt att hantera frågor till servern. "
   ]
  },
  {
   "cell_type": "code",
   "execution_count": 6,
   "metadata": {},
   "outputs": [],
   "source": [
    "response = requests.get(url)"
   ]
  },
  {
   "cell_type": "code",
   "execution_count": 7,
   "metadata": {},
   "outputs": [
    {
     "data": {
      "text/plain": [
       "8"
      ]
     },
     "execution_count": 7,
     "metadata": {},
     "output_type": "execute_result"
    }
   ],
   "source": [
    "sensors = response.json()\n",
    "number_of_sensors = len(sensors)\n",
    "number_of_sensors"
   ]
  },
  {
   "cell_type": "markdown",
   "metadata": {},
   "source": [
    "Om number_of_sensors är större än 0 så finns det sensorer i listan. Då kan man få fram sensorvärdena på olika sätt. Det första värdet ligger alltid i sensors[0]"
   ]
  },
  {
   "cell_type": "code",
   "execution_count": 19,
   "metadata": {},
   "outputs": [],
   "source": [
    "def create_sensordict (sensor):\n",
    "    sensordict = {}\n",
    "    sensordict['longitude'] = sensor['location']['longitude']\n",
    "    sensordict['latitude'] = sensor['location']['latitude']\n",
    "    for stype in sensor['sensordatavalues']:\n",
    "        sensordict[stype['value_type']] = stype['value']\n",
    "    return sensordict"
   ]
  },
  {
   "cell_type": "code",
   "execution_count": 30,
   "metadata": {},
   "outputs": [],
   "source": [
    "for sensor in sensors:\n",
    "    sens.append (create_sensordict(sensor), ignore_index=True)\n",
    "\n",
    "    "
   ]
  },
  {
   "cell_type": "code",
   "execution_count": 31,
   "metadata": {},
   "outputs": [
    {
     "data": {
      "text/html": [
       "<div>\n",
       "<style scoped>\n",
       "    .dataframe tbody tr th:only-of-type {\n",
       "        vertical-align: middle;\n",
       "    }\n",
       "\n",
       "    .dataframe tbody tr th {\n",
       "        vertical-align: top;\n",
       "    }\n",
       "\n",
       "    .dataframe thead th {\n",
       "        text-align: right;\n",
       "    }\n",
       "</style>\n",
       "<table border=\"1\" class=\"dataframe\">\n",
       "  <thead>\n",
       "    <tr style=\"text-align: right;\">\n",
       "      <th></th>\n",
       "      <th>longitude</th>\n",
       "      <th>latitude</th>\n",
       "    </tr>\n",
       "  </thead>\n",
       "  <tbody>\n",
       "    <tr>\n",
       "      <th>0</th>\n",
       "      <td>13.024</td>\n",
       "      <td>55.606</td>\n",
       "    </tr>\n",
       "    <tr>\n",
       "      <th>1</th>\n",
       "      <td>13.024</td>\n",
       "      <td>55.606</td>\n",
       "    </tr>\n",
       "    <tr>\n",
       "      <th>2</th>\n",
       "      <td>12.998</td>\n",
       "      <td>55.606</td>\n",
       "    </tr>\n",
       "    <tr>\n",
       "      <th>3</th>\n",
       "      <td>13.024</td>\n",
       "      <td>55.606</td>\n",
       "    </tr>\n",
       "    <tr>\n",
       "      <th>4</th>\n",
       "      <td>13.024</td>\n",
       "      <td>55.606</td>\n",
       "    </tr>\n",
       "    <tr>\n",
       "      <th>5</th>\n",
       "      <td>12.998</td>\n",
       "      <td>55.606</td>\n",
       "    </tr>\n",
       "    <tr>\n",
       "      <th>6</th>\n",
       "      <td>13.024</td>\n",
       "      <td>55.606</td>\n",
       "    </tr>\n",
       "    <tr>\n",
       "      <th>7</th>\n",
       "      <td>13.024</td>\n",
       "      <td>55.606</td>\n",
       "    </tr>\n",
       "  </tbody>\n",
       "</table>\n",
       "</div>"
      ],
      "text/plain": [
       "  longitude latitude\n",
       "0    13.024   55.606\n",
       "1    13.024   55.606\n",
       "2    12.998   55.606\n",
       "3    13.024   55.606\n",
       "4    13.024   55.606\n",
       "5    12.998   55.606\n",
       "6    13.024   55.606\n",
       "7    13.024   55.606"
      ]
     },
     "execution_count": 31,
     "metadata": {},
     "output_type": "execute_result"
    }
   ],
   "source": [
    "sens"
   ]
  },
  {
   "cell_type": "code",
   "execution_count": 16,
   "metadata": {},
   "outputs": [
    {
     "data": {
      "text/plain": [
       "{'longitude': '13.024', 'latitude': '55.606', 'P1': '1.50', 'P2': '1.40'}"
      ]
     },
     "execution_count": 16,
     "metadata": {},
     "output_type": "execute_result"
    }
   ],
   "source": [
    "sensordict"
   ]
  },
  {
   "cell_type": "code",
   "execution_count": 21,
   "metadata": {},
   "outputs": [],
   "source": [
    "sensframe = pd.DataFrame()"
   ]
  },
  {
   "cell_type": "code",
   "execution_count": null,
   "metadata": {},
   "outputs": [],
   "source": [
    "sensframe.append()"
   ]
  },
  {
   "cell_type": "code",
   "execution_count": 26,
   "metadata": {},
   "outputs": [],
   "source": [
    "longitudes = [sensor['location']['longitude'] for sensor in sensors]\n",
    "latitudes = [sensor['location']['latitude'] for sensor in sensors]"
   ]
  },
  {
   "cell_type": "code",
   "execution_count": 27,
   "metadata": {},
   "outputs": [],
   "source": [
    "sens = pd.DataFrame(data=longitudes, columns = ['longitude'] )"
   ]
  },
  {
   "cell_type": "code",
   "execution_count": 28,
   "metadata": {},
   "outputs": [],
   "source": [
    "sens['latitude'] = latitudes"
   ]
  },
  {
   "cell_type": "code",
   "execution_count": 29,
   "metadata": {},
   "outputs": [
    {
     "data": {
      "text/html": [
       "<div>\n",
       "<style scoped>\n",
       "    .dataframe tbody tr th:only-of-type {\n",
       "        vertical-align: middle;\n",
       "    }\n",
       "\n",
       "    .dataframe tbody tr th {\n",
       "        vertical-align: top;\n",
       "    }\n",
       "\n",
       "    .dataframe thead th {\n",
       "        text-align: right;\n",
       "    }\n",
       "</style>\n",
       "<table border=\"1\" class=\"dataframe\">\n",
       "  <thead>\n",
       "    <tr style=\"text-align: right;\">\n",
       "      <th></th>\n",
       "      <th>longitude</th>\n",
       "      <th>latitude</th>\n",
       "    </tr>\n",
       "  </thead>\n",
       "  <tbody>\n",
       "    <tr>\n",
       "      <th>0</th>\n",
       "      <td>13.024</td>\n",
       "      <td>55.606</td>\n",
       "    </tr>\n",
       "    <tr>\n",
       "      <th>1</th>\n",
       "      <td>13.024</td>\n",
       "      <td>55.606</td>\n",
       "    </tr>\n",
       "    <tr>\n",
       "      <th>2</th>\n",
       "      <td>12.998</td>\n",
       "      <td>55.606</td>\n",
       "    </tr>\n",
       "    <tr>\n",
       "      <th>3</th>\n",
       "      <td>13.024</td>\n",
       "      <td>55.606</td>\n",
       "    </tr>\n",
       "    <tr>\n",
       "      <th>4</th>\n",
       "      <td>13.024</td>\n",
       "      <td>55.606</td>\n",
       "    </tr>\n",
       "    <tr>\n",
       "      <th>5</th>\n",
       "      <td>12.998</td>\n",
       "      <td>55.606</td>\n",
       "    </tr>\n",
       "    <tr>\n",
       "      <th>6</th>\n",
       "      <td>13.024</td>\n",
       "      <td>55.606</td>\n",
       "    </tr>\n",
       "    <tr>\n",
       "      <th>7</th>\n",
       "      <td>13.024</td>\n",
       "      <td>55.606</td>\n",
       "    </tr>\n",
       "  </tbody>\n",
       "</table>\n",
       "</div>"
      ],
      "text/plain": [
       "  longitude latitude\n",
       "0    13.024   55.606\n",
       "1    13.024   55.606\n",
       "2    12.998   55.606\n",
       "3    13.024   55.606\n",
       "4    13.024   55.606\n",
       "5    12.998   55.606\n",
       "6    13.024   55.606\n",
       "7    13.024   55.606"
      ]
     },
     "execution_count": 29,
     "metadata": {},
     "output_type": "execute_result"
    }
   ],
   "source": [
    "sens"
   ]
  },
  {
   "cell_type": "code",
   "execution_count": 23,
   "metadata": {},
   "outputs": [],
   "source": [
    "df.latitude = [sensor['location']['latitude'] for sensor in sensors]"
   ]
  },
  {
   "cell_type": "code",
   "execution_count": 27,
   "metadata": {},
   "outputs": [
    {
     "data": {
      "text/plain": [
       "pandas.core.frame.DataFrame"
      ]
     },
     "execution_count": 27,
     "metadata": {},
     "output_type": "execute_result"
    }
   ],
   "source": [
    "df"
   ]
  },
  {
   "cell_type": "code",
   "execution_count": 41,
   "metadata": {},
   "outputs": [],
   "source": [
    "def get_values (sensor):\n",
    "    for stype in sensor['sensordatavalues']:\n",
    "        print (stype['value_type'], stype['value'])"
   ]
  },
  {
   "cell_type": "code",
   "execution_count": 43,
   "metadata": {},
   "outputs": [
    {
     "name": "stdout",
     "output_type": "stream",
     "text": [
      "temperature 7.86\n",
      "pressure 101336.69\n",
      "humidity 78.45\n",
      "pressure_at_sealevel 101437.74\n"
     ]
    }
   ],
   "source": [
    "get_values(sensors[0])"
   ]
  },
  {
   "cell_type": "code",
   "execution_count": 6,
   "metadata": {},
   "outputs": [
    {
     "data": {
      "text/plain": [
       "{'sampling_rate': None,\n",
       " 'location': {'country': 'SE',\n",
       "  'altitude': '8.2',\n",
       "  'id': 8180,\n",
       "  'indoor': 0,\n",
       "  'exact_location': 0,\n",
       "  'longitude': '13.024',\n",
       "  'latitude': '55.606'},\n",
       " 'sensordatavalues': [{'value_type': 'temperature',\n",
       "   'id': 12788794817,\n",
       "   'value': '7.86'},\n",
       "  {'value_type': 'pressure', 'id': 12788794818, 'value': '101336.69'},\n",
       "  {'value_type': 'humidity', 'id': 12788794820, 'value': '78.45'},\n",
       "  {'value_type': 'pressure_at_sealevel', 'value': 101437.74}],\n",
       " 'id': 6019977378,\n",
       " 'timestamp': '2020-01-09 10:48:53',\n",
       " 'sensor': {'sensor_type': {'name': 'BME280',\n",
       "   'id': 17,\n",
       "   'manufacturer': 'Bosch'},\n",
       "  'id': 16150,\n",
       "  'pin': '11'}}"
      ]
     },
     "execution_count": 6,
     "metadata": {},
     "output_type": "execute_result"
    }
   ],
   "source": [
    "sensors[0]"
   ]
  },
  {
   "cell_type": "markdown",
   "metadata": {},
   "source": [
    "Själva värdena ligger i sensordatavalues"
   ]
  },
  {
   "cell_type": "code",
   "execution_count": 7,
   "metadata": {},
   "outputs": [
    {
     "data": {
      "text/plain": [
       "[{'value_type': 'temperature', 'id': 12788794817, 'value': '7.86'},\n",
       " {'value_type': 'pressure', 'id': 12788794818, 'value': '101336.69'},\n",
       " {'value_type': 'humidity', 'id': 12788794820, 'value': '78.45'},\n",
       " {'value_type': 'pressure_at_sealevel', 'value': 101437.74}]"
      ]
     },
     "execution_count": 7,
     "metadata": {},
     "output_type": "execute_result"
    }
   ],
   "source": [
    "sensors[0]['sensordatavalues']"
   ]
  },
  {
   "cell_type": "markdown",
   "metadata": {},
   "source": [
    "Det finns olika typer av värden:\n",
    "\n",
    "* P1 är PM10, alltså partiklar mindre än 10 mikrometer\n",
    "* P2 är PM2.5, alltså partiklar mindre än 2,5 mikrometer\n",
    "* temperature är temperatur\n",
    "* humidity är luftfuktighet\n",
    "* pressure är lufttryck"
   ]
  },
  {
   "cell_type": "markdown",
   "metadata": {},
   "source": [
    "Man kan loopa genom sensorvärdena på olika sätt, exempelvis så här:"
   ]
  },
  {
   "cell_type": "code",
   "execution_count": 81,
   "metadata": {},
   "outputs": [
    {
     "name": "stdout",
     "output_type": "stream",
     "text": [
      "Sensorvärden:\n",
      "{'id': 7812380304, 'value_type': 'P1', 'value': '15.43'}\n",
      "{'id': 7812380306, 'value_type': 'P2', 'value': '12.17'}\n",
      "\n",
      "\n",
      "Sensorvärden:\n",
      "{'id': 7812380431, 'value_type': 'humidity', 'value': '62.57'}\n",
      "{'id': 7812380432, 'value_type': 'pressure', 'value': '100727.06'}\n",
      "{'id': 7812380430, 'value_type': 'temperature', 'value': '20.91'}\n",
      "{'value_type': 'pressure_at_sealevel', 'value': 100823.04}\n",
      "\n",
      "\n",
      "Sensorvärden:\n",
      "{'id': 7812394835, 'value_type': 'P1', 'value': '14.68'}\n",
      "{'id': 7812394837, 'value_type': 'P2', 'value': '12.25'}\n",
      "\n",
      "\n",
      "Sensorvärden:\n",
      "{'id': 7812414393, 'value_type': 'P1', 'value': '18.17'}\n",
      "{'id': 7812414394, 'value_type': 'P2', 'value': '12.43'}\n",
      "\n",
      "\n",
      "Sensorvärden:\n",
      "{'id': 7812414500, 'value_type': 'humidity', 'value': '62.53'}\n",
      "{'id': 7812414501, 'value_type': 'pressure', 'value': '100717.98'}\n",
      "{'id': 7812414499, 'value_type': 'temperature', 'value': '20.87'}\n",
      "{'value_type': 'pressure_at_sealevel', 'value': 100813.96}\n",
      "\n",
      "\n",
      "Sensorvärden:\n",
      "{'id': 7812429027, 'value_type': 'P1', 'value': '17.07'}\n",
      "{'id': 7812429028, 'value_type': 'P2', 'value': '13.03'}\n",
      "\n",
      "\n"
     ]
    }
   ],
   "source": [
    "for sensor in sensors:\n",
    "    print ('Sensorvärden:')\n",
    "    for value in sensor['sensordatavalues']:\n",
    "        print (value)\n",
    "    print ('\\n')"
   ]
  },
  {
   "cell_type": "code",
   "execution_count": 14,
   "metadata": {},
   "outputs": [
    {
     "data": {
      "application/vnd.jupyter.widget-view+json": {
       "model_id": "3dbfbd7f8d16467692ecc0d84af5bdd7",
       "version_major": 2,
       "version_minor": 0
      },
      "text/plain": [
       "Figure(layout=FigureLayout(height='420px'))"
      ]
     },
     "metadata": {},
     "output_type": "display_data"
    }
   ],
   "source": [
    "fig = gmaps.figure()\n",
    "#fig.add_layer(gmaps.heatmap_layer(locations, weights=weights))\n",
    "fig"
   ]
  },
  {
   "cell_type": "code",
   "execution_count": null,
   "metadata": {},
   "outputs": [],
   "source": []
  },
  {
   "cell_type": "code",
   "execution_count": null,
   "metadata": {},
   "outputs": [],
   "source": []
  }
 ],
 "metadata": {
  "kernelspec": {
   "display_name": "Python 3",
   "language": "python",
   "name": "python3"
  },
  "language_info": {
   "codemirror_mode": {
    "name": "ipython",
    "version": 3
   },
   "file_extension": ".py",
   "mimetype": "text/x-python",
   "name": "python",
   "nbconvert_exporter": "python",
   "pygments_lexer": "ipython3",
   "version": "3.7.5"
  }
 },
 "nbformat": 4,
 "nbformat_minor": 2
}
