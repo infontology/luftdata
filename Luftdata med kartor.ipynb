{
 "cells": [
  {
   "cell_type": "markdown",
   "metadata": {},
   "source": [
    "## Luftdata med kartor\n",
    "\n",
    "Simon Winter, Infontology http://infontology.org\n",
    "\n",
    "\n",
    "\n",
    "I den här lektionen ska vi se hur man kan hitta data för luftföroreningar från det nätverk av sammankopplade sensorer som finns på Luftdata.se"
   ]
  },
  {
   "cell_type": "code",
   "execution_count": 1,
   "metadata": {},
   "outputs": [
    {
     "name": "stderr",
     "output_type": "stream",
     "text": [
      "/Users/management/.local/lib/python3.7/site-packages/requests/__init__.py:91: RequestsDependencyWarning: urllib3 (1.25.7) or chardet (3.0.4) doesn't match a supported version!\n",
      "  RequestsDependencyWarning)\n"
     ]
    }
   ],
   "source": [
    "import requests\n",
    "import pandas as pd\n",
    "import gmaps\n",
    "from credentials import key"
   ]
  },
  {
   "cell_type": "code",
   "execution_count": 2,
   "metadata": {},
   "outputs": [],
   "source": [
    "# https://console.developers.google.com/apis/dashboard?project=natural-furnace-264420\n",
    "gmaps.configure(api_key=key)"
   ]
  },
  {
   "cell_type": "code",
   "execution_count": 68,
   "metadata": {},
   "outputs": [],
   "source": [
    "latitude = '55.611437'\n",
    "longitude = '12.994264'\n",
    "distance = '150' # Avstånd i kilometer"
   ]
  },
  {
   "cell_type": "markdown",
   "metadata": {},
   "source": [
    "Med hjälp av koordinaterna så skapar vi urlen. Lämna tomma platser inom {} i textsträngen, och ge variabelnamnen i format-parentesen"
   ]
  },
  {
   "cell_type": "code",
   "execution_count": 69,
   "metadata": {},
   "outputs": [
    {
     "data": {
      "text/plain": [
       "'http://api.luftdaten.info/v1/filter/area=55.611437,12.994264,150'"
      ]
     },
     "execution_count": 69,
     "metadata": {},
     "output_type": "execute_result"
    }
   ],
   "source": [
    "url = 'http://api.luftdaten.info/v1/filter/area={},{},{}'.format(latitude, longitude, distance)\n",
    "url ## Om man ger ett variabelnamn på sista raden av en cell skrivs värdet ut. Det går också att göra print(url)"
   ]
  },
  {
   "cell_type": "markdown",
   "metadata": {},
   "source": [
    "Requests-biblioteket gör det lätt att hantera frågor till servern. "
   ]
  },
  {
   "cell_type": "code",
   "execution_count": 70,
   "metadata": {},
   "outputs": [],
   "source": [
    "response = requests.get(url)"
   ]
  },
  {
   "cell_type": "code",
   "execution_count": 71,
   "metadata": {},
   "outputs": [
    {
     "data": {
      "text/plain": [
       "146"
      ]
     },
     "execution_count": 71,
     "metadata": {},
     "output_type": "execute_result"
    }
   ],
   "source": [
    "sensors = response.json()\n",
    "number_of_sensors = len(sensors)\n",
    "number_of_sensors"
   ]
  },
  {
   "cell_type": "markdown",
   "metadata": {},
   "source": [
    "Om number_of_sensors är större än 0 så finns det sensorer i listan. Då kan man få fram sensorvärdena på olika sätt. Det första värdet ligger alltid i sensors[0]"
   ]
  },
  {
   "cell_type": "code",
   "execution_count": 72,
   "metadata": {},
   "outputs": [],
   "source": [
    "sens2 = pd.DataFrame(columns=['latitude', 'longitude'])"
   ]
  },
  {
   "cell_type": "code",
   "execution_count": 73,
   "metadata": {},
   "outputs": [
    {
     "data": {
      "text/html": [
       "<div>\n",
       "<style scoped>\n",
       "    .dataframe tbody tr th:only-of-type {\n",
       "        vertical-align: middle;\n",
       "    }\n",
       "\n",
       "    .dataframe tbody tr th {\n",
       "        vertical-align: top;\n",
       "    }\n",
       "\n",
       "    .dataframe thead th {\n",
       "        text-align: right;\n",
       "    }\n",
       "</style>\n",
       "<table border=\"1\" class=\"dataframe\">\n",
       "  <thead>\n",
       "    <tr style=\"text-align: right;\">\n",
       "      <th></th>\n",
       "      <th>latitude</th>\n",
       "      <th>longitude</th>\n",
       "    </tr>\n",
       "  </thead>\n",
       "  <tbody>\n",
       "  </tbody>\n",
       "</table>\n",
       "</div>"
      ],
      "text/plain": [
       "Empty DataFrame\n",
       "Columns: [latitude, longitude]\n",
       "Index: []"
      ]
     },
     "execution_count": 73,
     "metadata": {},
     "output_type": "execute_result"
    }
   ],
   "source": [
    "sens2"
   ]
  },
  {
   "cell_type": "code",
   "execution_count": 74,
   "metadata": {},
   "outputs": [],
   "source": [
    "def create_sensordict (sensor):\n",
    "    sensordict = {}\n",
    "    sensordict['longitude'] = sensor['location']['longitude']\n",
    "    sensordict['latitude'] = sensor['location']['latitude']\n",
    "    for stype in sensor['sensordatavalues']:\n",
    "        sensordict[stype['value_type']] = stype['value']\n",
    "    return sensordict"
   ]
  },
  {
   "cell_type": "code",
   "execution_count": 75,
   "metadata": {},
   "outputs": [],
   "source": [
    "for sensor in sensors:\n",
    "    sens2 = sens2.append (create_sensordict(sensor), ignore_index=True)\n",
    "\n",
    "    "
   ]
  },
  {
   "cell_type": "code",
   "execution_count": 76,
   "metadata": {},
   "outputs": [
    {
     "data": {
      "text/html": [
       "<div>\n",
       "<style scoped>\n",
       "    .dataframe tbody tr th:only-of-type {\n",
       "        vertical-align: middle;\n",
       "    }\n",
       "\n",
       "    .dataframe tbody tr th {\n",
       "        vertical-align: top;\n",
       "    }\n",
       "\n",
       "    .dataframe thead th {\n",
       "        text-align: right;\n",
       "    }\n",
       "</style>\n",
       "<table border=\"1\" class=\"dataframe\">\n",
       "  <thead>\n",
       "    <tr style=\"text-align: right;\">\n",
       "      <th></th>\n",
       "      <th>latitude</th>\n",
       "      <th>longitude</th>\n",
       "      <th>humidity</th>\n",
       "      <th>temperature</th>\n",
       "      <th>P1</th>\n",
       "      <th>P2</th>\n",
       "      <th>pressure</th>\n",
       "      <th>pressure_at_sealevel</th>\n",
       "    </tr>\n",
       "  </thead>\n",
       "  <tbody>\n",
       "    <tr>\n",
       "      <th>0</th>\n",
       "      <td>56.196</td>\n",
       "      <td>15.094</td>\n",
       "      <td>99.90</td>\n",
       "      <td>6.10</td>\n",
       "      <td>NaN</td>\n",
       "      <td>NaN</td>\n",
       "      <td>NaN</td>\n",
       "      <td>NaN</td>\n",
       "    </tr>\n",
       "    <tr>\n",
       "      <th>1</th>\n",
       "      <td>56.196</td>\n",
       "      <td>15.094</td>\n",
       "      <td>NaN</td>\n",
       "      <td>NaN</td>\n",
       "      <td>91.27</td>\n",
       "      <td>16.37</td>\n",
       "      <td>NaN</td>\n",
       "      <td>NaN</td>\n",
       "    </tr>\n",
       "    <tr>\n",
       "      <th>2</th>\n",
       "      <td>56.07</td>\n",
       "      <td>12.698</td>\n",
       "      <td>99.90</td>\n",
       "      <td>8.70</td>\n",
       "      <td>NaN</td>\n",
       "      <td>NaN</td>\n",
       "      <td>NaN</td>\n",
       "      <td>NaN</td>\n",
       "    </tr>\n",
       "    <tr>\n",
       "      <th>3</th>\n",
       "      <td>56.07</td>\n",
       "      <td>12.698</td>\n",
       "      <td>NaN</td>\n",
       "      <td>NaN</td>\n",
       "      <td>11.47</td>\n",
       "      <td>9.63</td>\n",
       "      <td>NaN</td>\n",
       "      <td>NaN</td>\n",
       "    </tr>\n",
       "    <tr>\n",
       "      <th>4</th>\n",
       "      <td>55.674</td>\n",
       "      <td>13.074</td>\n",
       "      <td>NaN</td>\n",
       "      <td>NaN</td>\n",
       "      <td>60.90</td>\n",
       "      <td>18.60</td>\n",
       "      <td>NaN</td>\n",
       "      <td>NaN</td>\n",
       "    </tr>\n",
       "    <tr>\n",
       "      <th>...</th>\n",
       "      <td>...</td>\n",
       "      <td>...</td>\n",
       "      <td>...</td>\n",
       "      <td>...</td>\n",
       "      <td>...</td>\n",
       "      <td>...</td>\n",
       "      <td>...</td>\n",
       "      <td>...</td>\n",
       "    </tr>\n",
       "    <tr>\n",
       "      <th>141</th>\n",
       "      <td>55.722</td>\n",
       "      <td>13.202</td>\n",
       "      <td>99.90</td>\n",
       "      <td>9.00</td>\n",
       "      <td>NaN</td>\n",
       "      <td>NaN</td>\n",
       "      <td>NaN</td>\n",
       "      <td>NaN</td>\n",
       "    </tr>\n",
       "    <tr>\n",
       "      <th>142</th>\n",
       "      <td>55.882</td>\n",
       "      <td>14.228</td>\n",
       "      <td>NaN</td>\n",
       "      <td>NaN</td>\n",
       "      <td>41.73</td>\n",
       "      <td>16.50</td>\n",
       "      <td>NaN</td>\n",
       "      <td>NaN</td>\n",
       "    </tr>\n",
       "    <tr>\n",
       "      <th>143</th>\n",
       "      <td>55.722</td>\n",
       "      <td>13.202</td>\n",
       "      <td>NaN</td>\n",
       "      <td>NaN</td>\n",
       "      <td>34.75</td>\n",
       "      <td>19.50</td>\n",
       "      <td>NaN</td>\n",
       "      <td>NaN</td>\n",
       "    </tr>\n",
       "    <tr>\n",
       "      <th>144</th>\n",
       "      <td>55.606</td>\n",
       "      <td>13.024</td>\n",
       "      <td>84.17</td>\n",
       "      <td>10.10</td>\n",
       "      <td>NaN</td>\n",
       "      <td>NaN</td>\n",
       "      <td>100608.81</td>\n",
       "      <td>100708.34</td>\n",
       "    </tr>\n",
       "    <tr>\n",
       "      <th>145</th>\n",
       "      <td>55.606</td>\n",
       "      <td>13.024</td>\n",
       "      <td>NaN</td>\n",
       "      <td>NaN</td>\n",
       "      <td>27.50</td>\n",
       "      <td>13.10</td>\n",
       "      <td>NaN</td>\n",
       "      <td>NaN</td>\n",
       "    </tr>\n",
       "  </tbody>\n",
       "</table>\n",
       "<p>146 rows × 8 columns</p>\n",
       "</div>"
      ],
      "text/plain": [
       "    latitude longitude humidity temperature     P1     P2   pressure  \\\n",
       "0     56.196    15.094    99.90        6.10    NaN    NaN        NaN   \n",
       "1     56.196    15.094      NaN         NaN  91.27  16.37        NaN   \n",
       "2      56.07    12.698    99.90        8.70    NaN    NaN        NaN   \n",
       "3      56.07    12.698      NaN         NaN  11.47   9.63        NaN   \n",
       "4     55.674    13.074      NaN         NaN  60.90  18.60        NaN   \n",
       "..       ...       ...      ...         ...    ...    ...        ...   \n",
       "141   55.722    13.202    99.90        9.00    NaN    NaN        NaN   \n",
       "142   55.882    14.228      NaN         NaN  41.73  16.50        NaN   \n",
       "143   55.722    13.202      NaN         NaN  34.75  19.50        NaN   \n",
       "144   55.606    13.024    84.17       10.10    NaN    NaN  100608.81   \n",
       "145   55.606    13.024      NaN         NaN  27.50  13.10        NaN   \n",
       "\n",
       "     pressure_at_sealevel  \n",
       "0                     NaN  \n",
       "1                     NaN  \n",
       "2                     NaN  \n",
       "3                     NaN  \n",
       "4                     NaN  \n",
       "..                    ...  \n",
       "141                   NaN  \n",
       "142                   NaN  \n",
       "143                   NaN  \n",
       "144             100708.34  \n",
       "145                   NaN  \n",
       "\n",
       "[146 rows x 8 columns]"
      ]
     },
     "execution_count": 76,
     "metadata": {},
     "output_type": "execute_result"
    }
   ],
   "source": [
    "sens2"
   ]
  },
  {
   "cell_type": "code",
   "execution_count": 77,
   "metadata": {},
   "outputs": [],
   "source": [
    "sens2 = sens2.astype('float')"
   ]
  },
  {
   "cell_type": "code",
   "execution_count": 78,
   "metadata": {},
   "outputs": [
    {
     "data": {
      "text/plain": [
       "latitude                float64\n",
       "longitude               float64\n",
       "humidity                float64\n",
       "temperature             float64\n",
       "P1                      float64\n",
       "P2                      float64\n",
       "pressure                float64\n",
       "pressure_at_sealevel    float64\n",
       "dtype: object"
      ]
     },
     "execution_count": 78,
     "metadata": {},
     "output_type": "execute_result"
    }
   ],
   "source": [
    "sens2.dtypes"
   ]
  },
  {
   "cell_type": "code",
   "execution_count": 79,
   "metadata": {},
   "outputs": [],
   "source": [
    "humid_values = sens2[sens2['humidity'].notnull()]"
   ]
  },
  {
   "cell_type": "code",
   "execution_count": 80,
   "metadata": {},
   "outputs": [],
   "source": [
    "locations = humid_values[['latitude', 'longitude']]\n",
    "weights = humid_values['humidity']"
   ]
  },
  {
   "cell_type": "code",
   "execution_count": 81,
   "metadata": {},
   "outputs": [
    {
     "data": {
      "application/vnd.jupyter.widget-view+json": {
       "model_id": "bee8d8ad993d4c089e83086d2a9e0b0a",
       "version_major": 2,
       "version_minor": 0
      },
      "text/plain": [
       "Figure(layout=FigureLayout(height='420px'))"
      ]
     },
     "metadata": {},
     "output_type": "display_data"
    }
   ],
   "source": [
    "fig = gmaps.figure()\n",
    "marker_layer = gmaps.marker_layer(locations)\n",
    "fig.add_layer(marker_layer)\n",
    "fig\n",
    "\n"
   ]
  },
  {
   "cell_type": "code",
   "execution_count": 82,
   "metadata": {},
   "outputs": [],
   "source": [
    "value_dict = humid_values.to_dict('index')"
   ]
  },
  {
   "cell_type": "code",
   "execution_count": 83,
   "metadata": {},
   "outputs": [
    {
     "data": {
      "text/plain": [
       "dict_values([{'latitude': 56.196, 'longitude': 15.094, 'humidity': 99.9, 'temperature': 6.1, 'P1': nan, 'P2': nan, 'pressure': nan, 'pressure_at_sealevel': nan}, {'latitude': 56.07, 'longitude': 12.698, 'humidity': 99.9, 'temperature': 8.7, 'P1': nan, 'P2': nan, 'pressure': nan, 'pressure_at_sealevel': nan}, {'latitude': 55.82, 'longitude': 13.03, 'humidity': 99.9, 'temperature': 7.6, 'P1': nan, 'P2': nan, 'pressure': nan, 'pressure_at_sealevel': nan}, {'latitude': 55.722, 'longitude': 13.202, 'humidity': 99.9, 'temperature': 9.0, 'P1': nan, 'P2': nan, 'pressure': nan, 'pressure_at_sealevel': nan}, {'latitude': 56.098, 'longitude': 12.65, 'humidity': 100.0, 'temperature': 7.55, 'P1': nan, 'P2': nan, 'pressure': 107191.5, 'pressure_at_sealevel': 107668.46}, {'latitude': 55.606, 'longitude': 13.024, 'humidity': 84.13, 'temperature': 10.1, 'P1': nan, 'P2': nan, 'pressure': 100606.13, 'pressure_at_sealevel': 100705.65}, {'latitude': 55.648, 'longitude': 13.208, 'humidity': 99.9, 'temperature': 9.0, 'P1': nan, 'P2': nan, 'pressure': nan, 'pressure_at_sealevel': nan}, {'latitude': 54.3285761, 'longitude': 13.0779367, 'humidity': 88.0, 'temperature': 11.9, 'P1': nan, 'P2': nan, 'pressure': nan, 'pressure_at_sealevel': nan}, {'latitude': 55.654, 'longitude': 12.138, 'humidity': 99.9, 'temperature': 9.5, 'P1': nan, 'P2': nan, 'pressure': nan, 'pressure_at_sealevel': nan}, {'latitude': 55.796, 'longitude': 13.09, 'humidity': 99.9, 'temperature': 6.9, 'P1': nan, 'P2': nan, 'pressure': nan, 'pressure_at_sealevel': nan}, {'latitude': 56.096, 'longitude': 12.664, 'humidity': 91.22, 'temperature': 8.31, 'P1': nan, 'P2': nan, 'pressure': 99914.22, 'pressure_at_sealevel': 100423.32}, {'latitude': 55.676, 'longitude': 13.346, 'humidity': 99.9, 'temperature': 7.5, 'P1': nan, 'P2': nan, 'pressure': nan, 'pressure_at_sealevel': nan}, {'latitude': 55.606, 'longitude': 12.998, 'humidity': 89.2, 'temperature': 9.3, 'P1': nan, 'P2': nan, 'pressure': nan, 'pressure_at_sealevel': nan}, {'latitude': 56.144, 'longitude': 13.394, 'humidity': 99.9, 'temperature': 8.2, 'P1': nan, 'P2': nan, 'pressure': nan, 'pressure_at_sealevel': nan}, {'latitude': 55.708, 'longitude': 13.166, 'humidity': 100.0, 'temperature': 7.11, 'P1': nan, 'P2': nan, 'pressure': 100367.47, 'pressure_at_sealevel': 100758.3}, {'latitude': 55.748, 'longitude': 13.194, 'humidity': 99.9, 'temperature': 9.0, 'P1': nan, 'P2': nan, 'pressure': nan, 'pressure_at_sealevel': nan}, {'latitude': 55.674, 'longitude': 13.354, 'humidity': 99.9, 'temperature': 7.7, 'P1': nan, 'P2': nan, 'pressure': nan, 'pressure_at_sealevel': nan}, {'latitude': 54.3159757, 'longitude': 13.0902617, 'humidity': 99.9, 'temperature': 10.3, 'P1': nan, 'P2': nan, 'pressure': nan, 'pressure_at_sealevel': nan}, {'latitude': 55.713015, 'longitude': 13.336429, 'humidity': 99.9, 'temperature': 8.0, 'P1': nan, 'P2': nan, 'pressure': nan, 'pressure_at_sealevel': nan}, {'latitude': 55.492, 'longitude': 13.506, 'humidity': 99.9, 'temperature': 8.3, 'P1': nan, 'P2': nan, 'pressure': nan, 'pressure_at_sealevel': nan}, {'latitude': 55.658, 'longitude': 13.358, 'humidity': 100.0, 'temperature': 8.45, 'P1': nan, 'P2': nan, 'pressure': 99101.75, 'pressure_at_sealevel': 99889.23}, {'latitude': 55.61, 'longitude': 12.1, 'humidity': 0.0, 'temperature': 8.92, 'P1': nan, 'P2': nan, 'pressure': 100115.41, 'pressure_at_sealevel': 100695.06}, {'latitude': 55.898, 'longitude': 14.094, 'humidity': 99.9, 'temperature': 9.0, 'P1': nan, 'P2': nan, 'pressure': nan, 'pressure_at_sealevel': nan}, {'latitude': 55.586, 'longitude': 12.286, 'humidity': 76.7, 'temperature': 13.2, 'P1': nan, 'P2': nan, 'pressure': nan, 'pressure_at_sealevel': nan}, {'latitude': 54.314, 'longitude': 13.098, 'humidity': 71.0, 'temperature': 14.5, 'P1': nan, 'P2': nan, 'pressure': nan, 'pressure_at_sealevel': nan}, {'latitude': 56.696, 'longitude': 13.002, 'humidity': 99.9, 'temperature': 4.8, 'P1': nan, 'P2': nan, 'pressure': nan, 'pressure_at_sealevel': nan}, {'latitude': 54.518, 'longitude': 13.656, 'humidity': 92.5, 'temperature': 10.0, 'P1': nan, 'P2': nan, 'pressure': nan, 'pressure_at_sealevel': nan}, {'latitude': 55.882, 'longitude': 14.228, 'humidity': 100.0, 'temperature': 7.65, 'P1': nan, 'P2': nan, 'pressure': 100691.31, 'pressure_at_sealevel': 100728.06}, {'latitude': 54.52, 'longitude': 13.614, 'humidity': 97.3, 'temperature': 9.3, 'P1': nan, 'P2': nan, 'pressure': nan, 'pressure_at_sealevel': nan}, {'latitude': 56.196, 'longitude': 15.094, 'humidity': 99.9, 'temperature': 6.2, 'P1': nan, 'P2': nan, 'pressure': nan, 'pressure_at_sealevel': nan}, {'latitude': 56.07, 'longitude': 12.698, 'humidity': 99.9, 'temperature': 8.7, 'P1': nan, 'P2': nan, 'pressure': nan, 'pressure_at_sealevel': nan}, {'latitude': 55.728, 'longitude': 13.168, 'humidity': 99.9, 'temperature': 8.3, 'P1': nan, 'P2': nan, 'pressure': nan, 'pressure_at_sealevel': nan}, {'latitude': 55.82, 'longitude': 13.03, 'humidity': 99.9, 'temperature': 7.6, 'P1': nan, 'P2': nan, 'pressure': nan, 'pressure_at_sealevel': nan}, {'latitude': 55.722, 'longitude': 13.202, 'humidity': 99.9, 'temperature': 9.1, 'P1': nan, 'P2': nan, 'pressure': nan, 'pressure_at_sealevel': nan}, {'latitude': 56.098, 'longitude': 12.65, 'humidity': 100.0, 'temperature': 7.53, 'P1': nan, 'P2': nan, 'pressure': 107195.0, 'pressure_at_sealevel': 107672.01}, {'latitude': 55.606, 'longitude': 13.024, 'humidity': 84.13, 'temperature': 10.1, 'P1': nan, 'P2': nan, 'pressure': 100608.81, 'pressure_at_sealevel': 100708.34}, {'latitude': 55.648, 'longitude': 13.208, 'humidity': 99.9, 'temperature': 9.0, 'P1': nan, 'P2': nan, 'pressure': nan, 'pressure_at_sealevel': nan}, {'latitude': 54.3285761, 'longitude': 13.0779367, 'humidity': 88.0, 'temperature': 11.9, 'P1': nan, 'P2': nan, 'pressure': nan, 'pressure_at_sealevel': nan}, {'latitude': 55.654, 'longitude': 12.138, 'humidity': 99.9, 'temperature': 9.4, 'P1': nan, 'P2': nan, 'pressure': nan, 'pressure_at_sealevel': nan}, {'latitude': 56.096, 'longitude': 12.664, 'humidity': 91.29, 'temperature': 8.41, 'P1': nan, 'P2': nan, 'pressure': 99925.0, 'pressure_at_sealevel': 100433.98}, {'latitude': 55.796, 'longitude': 13.09, 'humidity': 99.9, 'temperature': 6.9, 'P1': nan, 'P2': nan, 'pressure': nan, 'pressure_at_sealevel': nan}, {'latitude': 55.676, 'longitude': 13.346, 'humidity': 99.9, 'temperature': 7.5, 'P1': nan, 'P2': nan, 'pressure': nan, 'pressure_at_sealevel': nan}, {'latitude': 56.144, 'longitude': 13.394, 'humidity': 99.9, 'temperature': 8.1, 'P1': nan, 'P2': nan, 'pressure': nan, 'pressure_at_sealevel': nan}, {'latitude': 55.708, 'longitude': 13.166, 'humidity': 100.0, 'temperature': 7.11, 'P1': nan, 'P2': nan, 'pressure': 100372.81, 'pressure_at_sealevel': 100763.66}, {'latitude': 55.606, 'longitude': 12.998, 'humidity': 89.2, 'temperature': 9.3, 'P1': nan, 'P2': nan, 'pressure': nan, 'pressure_at_sealevel': nan}, {'latitude': 55.748, 'longitude': 13.194, 'humidity': 99.9, 'temperature': 9.0, 'P1': nan, 'P2': nan, 'pressure': nan, 'pressure_at_sealevel': nan}, {'latitude': 55.674, 'longitude': 13.354, 'humidity': 99.9, 'temperature': 7.6, 'P1': nan, 'P2': nan, 'pressure': nan, 'pressure_at_sealevel': nan}, {'latitude': 54.3159757, 'longitude': 13.0902617, 'humidity': 99.9, 'temperature': 10.3, 'P1': nan, 'P2': nan, 'pressure': nan, 'pressure_at_sealevel': nan}, {'latitude': 55.713015, 'longitude': 13.336429, 'humidity': 99.9, 'temperature': 8.0, 'P1': nan, 'P2': nan, 'pressure': nan, 'pressure_at_sealevel': nan}, {'latitude': 55.492, 'longitude': 13.506, 'humidity': 99.9, 'temperature': 8.3, 'P1': nan, 'P2': nan, 'pressure': nan, 'pressure_at_sealevel': nan}, {'latitude': 55.658, 'longitude': 13.358, 'humidity': 100.0, 'temperature': 8.45, 'P1': nan, 'P2': nan, 'pressure': 99024.44, 'pressure_at_sealevel': 99811.31}, {'latitude': 55.61, 'longitude': 12.1, 'humidity': 0.0, 'temperature': 8.92, 'P1': nan, 'P2': nan, 'pressure': 100118.97, 'pressure_at_sealevel': 100698.64}, {'latitude': 55.898, 'longitude': 14.094, 'humidity': 99.9, 'temperature': 8.9, 'P1': nan, 'P2': nan, 'pressure': nan, 'pressure_at_sealevel': nan}, {'latitude': 54.314, 'longitude': 13.098, 'humidity': 70.9, 'temperature': 14.4, 'P1': nan, 'P2': nan, 'pressure': nan, 'pressure_at_sealevel': nan}, {'latitude': 54.518, 'longitude': 13.656, 'humidity': 92.5, 'temperature': 10.0, 'P1': nan, 'P2': nan, 'pressure': nan, 'pressure_at_sealevel': nan}, {'latitude': 56.696, 'longitude': 13.002, 'humidity': 99.9, 'temperature': 4.8, 'P1': nan, 'P2': nan, 'pressure': nan, 'pressure_at_sealevel': nan}, {'latitude': 54.52, 'longitude': 13.614, 'humidity': 97.3, 'temperature': 9.3, 'P1': nan, 'P2': nan, 'pressure': nan, 'pressure_at_sealevel': nan}, {'latitude': 56.196, 'longitude': 15.094, 'humidity': 99.9, 'temperature': 6.1, 'P1': nan, 'P2': nan, 'pressure': nan, 'pressure_at_sealevel': nan}, {'latitude': 56.07, 'longitude': 12.698, 'humidity': 99.9, 'temperature': 8.7, 'P1': nan, 'P2': nan, 'pressure': nan, 'pressure_at_sealevel': nan}, {'latitude': 55.586, 'longitude': 12.286, 'humidity': 76.7, 'temperature': 13.2, 'P1': nan, 'P2': nan, 'pressure': nan, 'pressure_at_sealevel': nan}, {'latitude': 55.82, 'longitude': 13.03, 'humidity': 99.9, 'temperature': 7.5, 'P1': nan, 'P2': nan, 'pressure': nan, 'pressure_at_sealevel': nan}, {'latitude': 56.098, 'longitude': 12.65, 'humidity': 100.0, 'temperature': 7.61, 'P1': nan, 'P2': nan, 'pressure': 107198.59, 'pressure_at_sealevel': 107675.47}, {'latitude': 55.882, 'longitude': 14.228, 'humidity': 100.0, 'temperature': 7.72, 'P1': nan, 'P2': nan, 'pressure': 100690.19, 'pressure_at_sealevel': 100726.93}, {'latitude': 55.722, 'longitude': 13.202, 'humidity': 99.9, 'temperature': 9.0, 'P1': nan, 'P2': nan, 'pressure': nan, 'pressure_at_sealevel': nan}, {'latitude': 55.606, 'longitude': 13.024, 'humidity': 84.17, 'temperature': 10.1, 'P1': nan, 'P2': nan, 'pressure': 100608.81, 'pressure_at_sealevel': 100708.34}])"
      ]
     },
     "execution_count": 83,
     "metadata": {},
     "output_type": "execute_result"
    }
   ],
   "source": [
    "value_dict.values()"
   ]
  },
  {
   "cell_type": "code",
   "execution_count": 87,
   "metadata": {},
   "outputs": [],
   "source": [
    "data = humid_values.to_dict('index').values()\n",
    "#data"
   ]
  },
  {
   "cell_type": "code",
   "execution_count": 88,
   "metadata": {},
   "outputs": [],
   "source": [
    "\n",
    "plant_locations = [(plant['latitude'], plant['longitude']) for plant in data] \n",
    "info_box_template = \"\"\"\n",
    "<dl>\n",
    "<dt>Fuktighet</dt><dd>{humidity}</dd>\n",
    "<dt>Lufttryck</dt><dd>{pressure}</dd>\n",
    "</dl>\n",
    "\"\"\"\n",
    "\n",
    "plant_info = [info_box_template.format(**plant) for plant in data]\n",
    "marker_layer = gmaps.marker_layer(plant_locations, info_box_content=plant_info)"
   ]
  },
  {
   "cell_type": "code",
   "execution_count": 89,
   "metadata": {},
   "outputs": [
    {
     "data": {
      "application/vnd.jupyter.widget-view+json": {
       "model_id": "1569123e78544ca9bcd7c2fca359b3ac",
       "version_major": 2,
       "version_minor": 0
      },
      "text/plain": [
       "Figure(layout=FigureLayout(height='420px'))"
      ]
     },
     "metadata": {},
     "output_type": "display_data"
    }
   ],
   "source": [
    "fig = gmaps.figure()\n",
    "\n",
    "fig.add_layer(marker_layer)\n",
    "fig"
   ]
  },
  {
   "cell_type": "code",
   "execution_count": null,
   "metadata": {},
   "outputs": [],
   "source": []
  },
  {
   "cell_type": "code",
   "execution_count": null,
   "metadata": {},
   "outputs": [],
   "source": []
  },
  {
   "cell_type": "code",
   "execution_count": 6,
   "metadata": {},
   "outputs": [
    {
     "data": {
      "text/plain": [
       "{'sampling_rate': None,\n",
       " 'location': {'country': 'SE',\n",
       "  'altitude': '8.2',\n",
       "  'id': 8180,\n",
       "  'indoor': 0,\n",
       "  'exact_location': 0,\n",
       "  'longitude': '13.024',\n",
       "  'latitude': '55.606'},\n",
       " 'sensordatavalues': [{'value_type': 'temperature',\n",
       "   'id': 12788794817,\n",
       "   'value': '7.86'},\n",
       "  {'value_type': 'pressure', 'id': 12788794818, 'value': '101336.69'},\n",
       "  {'value_type': 'humidity', 'id': 12788794820, 'value': '78.45'},\n",
       "  {'value_type': 'pressure_at_sealevel', 'value': 101437.74}],\n",
       " 'id': 6019977378,\n",
       " 'timestamp': '2020-01-09 10:48:53',\n",
       " 'sensor': {'sensor_type': {'name': 'BME280',\n",
       "   'id': 17,\n",
       "   'manufacturer': 'Bosch'},\n",
       "  'id': 16150,\n",
       "  'pin': '11'}}"
      ]
     },
     "execution_count": 6,
     "metadata": {},
     "output_type": "execute_result"
    }
   ],
   "source": [
    "sensors[0]"
   ]
  },
  {
   "cell_type": "markdown",
   "metadata": {},
   "source": [
    "Det finns olika typer av värden:\n",
    "\n",
    "* P1 är PM10, alltså partiklar mindre än 10 mikrometer\n",
    "* P2 är PM2.5, alltså partiklar mindre än 2,5 mikrometer\n",
    "* temperature är temperatur\n",
    "* humidity är luftfuktighet\n",
    "* pressure är lufttryck"
   ]
  }
 ],
 "metadata": {
  "kernelspec": {
   "display_name": "Python 3",
   "language": "python",
   "name": "python3"
  },
  "language_info": {
   "codemirror_mode": {
    "name": "ipython",
    "version": 3
   },
   "file_extension": ".py",
   "mimetype": "text/x-python",
   "name": "python",
   "nbconvert_exporter": "python",
   "pygments_lexer": "ipython3",
   "version": "3.7.5"
  }
 },
 "nbformat": 4,
 "nbformat_minor": 2
}
